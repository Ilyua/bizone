{
 "cells": [
  {
   "cell_type": "code",
   "execution_count": null,
   "metadata": {
    "scrolled": true
   },
   "outputs": [],
   "source": [
    "%autosave 60"
   ]
  },
  {
   "cell_type": "code",
   "execution_count": 238,
   "metadata": {},
   "outputs": [],
   "source": [
    "import warnings\n",
    "warnings.simplefilter('ignore')\n",
    "\n",
    "import pandas as pd\n",
    "import numpy as np\n",
    "\n",
    "from sklearn.tree import DecisionTreeClassifier\n",
    "from sklearn.model_selection import train_test_split\n",
    "from sklearn import decomposition\n",
    "from sklearn.metrics import accuracy_score, roc_auc_score,recall_score,make_scorer\n",
    "from sklearn.metrics import precision_score\n",
    "from sklearn.model_selection import train_test_split, StratifiedKFold\n",
    "from sklearn.neighbors import KNeighborsClassifier\n",
    "from sklearn.ensemble import RandomForestClassifier, BaggingClassifier,IsolationForest\n",
    "from sklearn.model_selection import cross_val_score, StratifiedKFold, GridSearchCV\n",
    "from sklearn.manifold import TSNE\n",
    "from sklearn.preprocessing import StandardScaler\n",
    "from sklearn.preprocessing import PolynomialFeatures\n",
    "from sklearn.linear_model import LogisticRegression, LogisticRegressionCV\n",
    "from sklearn.pipeline import Pipeline\n",
    "from sklearn.preprocessing import StandardScaler, RobustScaler  \n",
    "from sklearn.neural_network import MLPClassifier\n",
    "from sklearn.metrics import confusion_matrix,classification_report\n",
    "\n",
    "# стороняя библиотека для работы с несбалансированными датасетами\n",
    "# pip install imblearn\n",
    "from imblearn.over_sampling import SMOTE, ADASYN\n",
    "\n",
    "# настройки отображения графиков\n",
    "# %config InlineBackend.figure_format = 'svg' \n",
    "import matplotlib.pyplot as plt\n",
    "import seaborn as sns\n",
    "sns.set(style=\"ticks\", color_codes=True)\n",
    "# %matplotlib inline\n",
    "\n",
    "# увеличим  размер графиков\n",
    "from pylab import rcParams\n",
    "rcParams['figure.figsize'] = 8,7\n",
    "\n",
    "from tqdm import tqdm_notebook\n",
    "import itertools\n",
    "# для воспроизводимости\n",
    "r_state = 11"
   ]
  },
  {
   "cell_type": "code",
   "execution_count": 239,
   "metadata": {},
   "outputs": [],
   "source": [
    "data_path = './data/creditcard.csv'"
   ]
  },
  {
   "cell_type": "code",
   "execution_count": 310,
   "metadata": {},
   "outputs": [],
   "source": [
    "df = pd.read_csv(data_path)"
   ]
  },
  {
   "cell_type": "markdown",
   "metadata": {},
   "source": [
    "Проверим, что все считалось должным образом: данные проскалены"
   ]
  },
  {
   "cell_type": "code",
   "execution_count": 311,
   "metadata": {},
   "outputs": [
    {
     "data": {
      "text/html": [
       "<div>\n",
       "<style scoped>\n",
       "    .dataframe tbody tr th:only-of-type {\n",
       "        vertical-align: middle;\n",
       "    }\n",
       "\n",
       "    .dataframe tbody tr th {\n",
       "        vertical-align: top;\n",
       "    }\n",
       "\n",
       "    .dataframe thead th {\n",
       "        text-align: right;\n",
       "    }\n",
       "</style>\n",
       "<table border=\"1\" class=\"dataframe\">\n",
       "  <thead>\n",
       "    <tr style=\"text-align: right;\">\n",
       "      <th></th>\n",
       "      <th>Time</th>\n",
       "      <th>V1</th>\n",
       "      <th>V2</th>\n",
       "      <th>V3</th>\n",
       "      <th>V4</th>\n",
       "      <th>V5</th>\n",
       "      <th>V6</th>\n",
       "      <th>V7</th>\n",
       "      <th>V8</th>\n",
       "      <th>V9</th>\n",
       "      <th>...</th>\n",
       "      <th>V21</th>\n",
       "      <th>V22</th>\n",
       "      <th>V23</th>\n",
       "      <th>V24</th>\n",
       "      <th>V25</th>\n",
       "      <th>V26</th>\n",
       "      <th>V27</th>\n",
       "      <th>V28</th>\n",
       "      <th>Amount</th>\n",
       "      <th>Class</th>\n",
       "    </tr>\n",
       "  </thead>\n",
       "  <tbody>\n",
       "    <tr>\n",
       "      <th>0</th>\n",
       "      <td>0.0</td>\n",
       "      <td>-1.359807</td>\n",
       "      <td>-0.072781</td>\n",
       "      <td>2.536347</td>\n",
       "      <td>1.378155</td>\n",
       "      <td>-0.338321</td>\n",
       "      <td>0.462388</td>\n",
       "      <td>0.239599</td>\n",
       "      <td>0.098698</td>\n",
       "      <td>0.363787</td>\n",
       "      <td>...</td>\n",
       "      <td>-0.018307</td>\n",
       "      <td>0.277838</td>\n",
       "      <td>-0.110474</td>\n",
       "      <td>0.066928</td>\n",
       "      <td>0.128539</td>\n",
       "      <td>-0.189115</td>\n",
       "      <td>0.133558</td>\n",
       "      <td>-0.021053</td>\n",
       "      <td>149.62</td>\n",
       "      <td>0</td>\n",
       "    </tr>\n",
       "    <tr>\n",
       "      <th>1</th>\n",
       "      <td>0.0</td>\n",
       "      <td>1.191857</td>\n",
       "      <td>0.266151</td>\n",
       "      <td>0.166480</td>\n",
       "      <td>0.448154</td>\n",
       "      <td>0.060018</td>\n",
       "      <td>-0.082361</td>\n",
       "      <td>-0.078803</td>\n",
       "      <td>0.085102</td>\n",
       "      <td>-0.255425</td>\n",
       "      <td>...</td>\n",
       "      <td>-0.225775</td>\n",
       "      <td>-0.638672</td>\n",
       "      <td>0.101288</td>\n",
       "      <td>-0.339846</td>\n",
       "      <td>0.167170</td>\n",
       "      <td>0.125895</td>\n",
       "      <td>-0.008983</td>\n",
       "      <td>0.014724</td>\n",
       "      <td>2.69</td>\n",
       "      <td>0</td>\n",
       "    </tr>\n",
       "    <tr>\n",
       "      <th>2</th>\n",
       "      <td>1.0</td>\n",
       "      <td>-1.358354</td>\n",
       "      <td>-1.340163</td>\n",
       "      <td>1.773209</td>\n",
       "      <td>0.379780</td>\n",
       "      <td>-0.503198</td>\n",
       "      <td>1.800499</td>\n",
       "      <td>0.791461</td>\n",
       "      <td>0.247676</td>\n",
       "      <td>-1.514654</td>\n",
       "      <td>...</td>\n",
       "      <td>0.247998</td>\n",
       "      <td>0.771679</td>\n",
       "      <td>0.909412</td>\n",
       "      <td>-0.689281</td>\n",
       "      <td>-0.327642</td>\n",
       "      <td>-0.139097</td>\n",
       "      <td>-0.055353</td>\n",
       "      <td>-0.059752</td>\n",
       "      <td>378.66</td>\n",
       "      <td>0</td>\n",
       "    </tr>\n",
       "    <tr>\n",
       "      <th>3</th>\n",
       "      <td>1.0</td>\n",
       "      <td>-0.966272</td>\n",
       "      <td>-0.185226</td>\n",
       "      <td>1.792993</td>\n",
       "      <td>-0.863291</td>\n",
       "      <td>-0.010309</td>\n",
       "      <td>1.247203</td>\n",
       "      <td>0.237609</td>\n",
       "      <td>0.377436</td>\n",
       "      <td>-1.387024</td>\n",
       "      <td>...</td>\n",
       "      <td>-0.108300</td>\n",
       "      <td>0.005274</td>\n",
       "      <td>-0.190321</td>\n",
       "      <td>-1.175575</td>\n",
       "      <td>0.647376</td>\n",
       "      <td>-0.221929</td>\n",
       "      <td>0.062723</td>\n",
       "      <td>0.061458</td>\n",
       "      <td>123.50</td>\n",
       "      <td>0</td>\n",
       "    </tr>\n",
       "    <tr>\n",
       "      <th>4</th>\n",
       "      <td>2.0</td>\n",
       "      <td>-1.158233</td>\n",
       "      <td>0.877737</td>\n",
       "      <td>1.548718</td>\n",
       "      <td>0.403034</td>\n",
       "      <td>-0.407193</td>\n",
       "      <td>0.095921</td>\n",
       "      <td>0.592941</td>\n",
       "      <td>-0.270533</td>\n",
       "      <td>0.817739</td>\n",
       "      <td>...</td>\n",
       "      <td>-0.009431</td>\n",
       "      <td>0.798278</td>\n",
       "      <td>-0.137458</td>\n",
       "      <td>0.141267</td>\n",
       "      <td>-0.206010</td>\n",
       "      <td>0.502292</td>\n",
       "      <td>0.219422</td>\n",
       "      <td>0.215153</td>\n",
       "      <td>69.99</td>\n",
       "      <td>0</td>\n",
       "    </tr>\n",
       "  </tbody>\n",
       "</table>\n",
       "<p>5 rows × 31 columns</p>\n",
       "</div>"
      ],
      "text/plain": [
       "   Time        V1        V2        V3        V4        V5        V6        V7  \\\n",
       "0   0.0 -1.359807 -0.072781  2.536347  1.378155 -0.338321  0.462388  0.239599   \n",
       "1   0.0  1.191857  0.266151  0.166480  0.448154  0.060018 -0.082361 -0.078803   \n",
       "2   1.0 -1.358354 -1.340163  1.773209  0.379780 -0.503198  1.800499  0.791461   \n",
       "3   1.0 -0.966272 -0.185226  1.792993 -0.863291 -0.010309  1.247203  0.237609   \n",
       "4   2.0 -1.158233  0.877737  1.548718  0.403034 -0.407193  0.095921  0.592941   \n",
       "\n",
       "         V8        V9  ...         V21       V22       V23       V24  \\\n",
       "0  0.098698  0.363787  ...   -0.018307  0.277838 -0.110474  0.066928   \n",
       "1  0.085102 -0.255425  ...   -0.225775 -0.638672  0.101288 -0.339846   \n",
       "2  0.247676 -1.514654  ...    0.247998  0.771679  0.909412 -0.689281   \n",
       "3  0.377436 -1.387024  ...   -0.108300  0.005274 -0.190321 -1.175575   \n",
       "4 -0.270533  0.817739  ...   -0.009431  0.798278 -0.137458  0.141267   \n",
       "\n",
       "        V25       V26       V27       V28  Amount  Class  \n",
       "0  0.128539 -0.189115  0.133558 -0.021053  149.62      0  \n",
       "1  0.167170  0.125895 -0.008983  0.014724    2.69      0  \n",
       "2 -0.327642 -0.139097 -0.055353 -0.059752  378.66      0  \n",
       "3  0.647376 -0.221929  0.062723  0.061458  123.50      0  \n",
       "4 -0.206010  0.502292  0.219422  0.215153   69.99      0  \n",
       "\n",
       "[5 rows x 31 columns]"
      ]
     },
     "execution_count": 311,
     "metadata": {},
     "output_type": "execute_result"
    }
   ],
   "source": [
    "df.head()"
   ]
  },
  {
   "cell_type": "markdown",
   "metadata": {},
   "source": [
    "Сперва посмотрим на распределение меток у целевого класса:"
   ]
  },
  {
   "cell_type": "code",
   "execution_count": 312,
   "metadata": {},
   "outputs": [
    {
     "data": {
      "image/png": "[encoded data removed]",
      "text/plain": [
       "<Figure size 576x504 with 1 Axes>"
      ]
     },
     "metadata": {},
     "output_type": "display_data"
    }
   ],
   "source": [
    "sns.countplot(df['Class']);"
   ]
  },
  {
   "cell_type": "markdown",
   "metadata": {},
   "source": [
    "Оценим, насколько мошеннические транзакции коррелируют со временем:"
   ]
  },
  {
   "cell_type": "code",
   "execution_count": 313,
   "metadata": {},
   "outputs": [
    {
     "data": {
      "image/png": "[encoded data removed]",
      "text/plain": [
       "<Figure size 576x504 with 1 Axes>"
      ]
     },
     "metadata": {},
     "output_type": "display_data"
    }
   ],
   "source": [
    "sns.distplot(df[df['Class']==1]['Time'],100);"
   ]
  },
  {
   "cell_type": "markdown",
   "metadata": {},
   "source": [
    "Посмотрим как пространство признаков изображается при двумерной проекции(на примере признаков 'V11', 'V12', 'V13', 'V14', 'V15') :"
   ]
  },
  {
   "cell_type": "code",
   "execution_count": 314,
   "metadata": {},
   "outputs": [],
   "source": [
    "# %%time\n",
    "\n",
    "# rcParams['figure.figsize'] = 12,12\n",
    "# sns_plot = sns.pairplot(df,vars=['V11', 'V12', 'V13', 'V14', 'V15'],hue=\"Class\",markers=[\"o\", \"s\"])\n",
    "# rcParams['figure.figsize'] = 8,7"
   ]
  },
  {
   "cell_type": "code",
   "execution_count": 315,
   "metadata": {},
   "outputs": [],
   "source": [
    "df = df.sample(n=10000,random_state = r_state)"
   ]
  },
  {
   "cell_type": "code",
   "execution_count": 316,
   "metadata": {},
   "outputs": [],
   "source": [
    "X_original_unb,y_original_unb,X_original_b,y_original_b = create_balanced_data_from_initial(df)"
   ]
  },
  {
   "cell_type": "code",
   "execution_count": null,
   "metadata": {},
   "outputs": [],
   "source": [
    "%%time\n",
    "tsne = TSNE(random_state=17)\n",
    "scaler = StandardScaler()\n",
    "X_scaled = scaler.fit_transform(df.drop(['Class'],axis=1))\n",
    "tsne_representation = tsne.fit_transform(X_scaled)"
   ]
  },
  {
   "cell_type": "code",
   "execution_count": null,
   "metadata": {},
   "outputs": [],
   "source": [
    "plt.scatter(tsne_representation[:, 0], tsne_representation[:, 1], \n",
    "            c=df['Class'].map({0: 'blue', 1: 'orange'}));"
   ]
  },
  {
   "cell_type": "markdown",
   "metadata": {},
   "source": [
    "Для получения качественных оценок работы алгоритма, я буду сравнивать такие метрики как:\n",
    "- **Recall score**\n",
    "\n",
    "   Это оценка вида: \n",
    "   \n",
    "   $$score = {tp \\over tp + fn}$$\n",
    "   \n",
    "   tp - число предсказаний, когда модель верно обнаружила нужные транзакции.\n",
    "   \n",
    "   fn - число предсказаний, когда модель не распознала поддельный перевод.\n",
    "   \n",
    "   Чем ближе это значение к 1, тем меньше модель пропускает поддельных транзакций. Но, возможно, она будет помечать некоторые переводы как поддельные, хотя они таковыми не являются. Следующие метрики должны помочь проконтролировать этот аспект.\n",
    "   \n",
    "   \n",
    "- **Precision score**\n",
    "\n",
    "   Это оценка вида: \n",
    "   \n",
    "   $$score = {tp \\over tp + fp}$$\n",
    "   \n",
    "   Чем ближе к 1 это значение, тем меньше законных транзакций помечаются как поддельные\n",
    "\n",
    "   \n",
    "- **Accuracy**\n",
    "\n",
    "   Доля верных ответов, будем его тоже учитывать.\n",
    "   \n",
    "   \n",
    "- **ROC AUC score**\n",
    "\n",
    "   Площадь, ограниченная ROC-кривой и осью доли ложных положительных классификаций.\n",
    "   Эта метрика позволяет судить о качестве бинарной классификации и в совокупности с Recall score  и Precision score должна дать нам наглядное представление о работе классификатора."
   ]
  },
  {
   "cell_type": "markdown",
   "metadata": {},
   "source": [
    "Для того, что получить сбалансированный датасет, я буду использовать алгоритм ADASYN(Adaptive Synthetic Sampling),поскольку SMOTE (Synthetic Minority Over-sampling Technique) создает больше примеров внутри кластера, а ADASYN создает больше синтетических примеров на границе. \n",
    "\n",
    "В случае, когда данные генерируются ADASYN, модель становится более \"подозрительной\", поскольку будет лучше опознавать мошеннические транзакции на границе двух кластеров, ведь ADASYN может расширить границы имеющего кластера. Хотя это и может привести к ошибкам рода False Positive, мне кажется, что такой подход будет надежнее и более подходит для предотвращения мошенничества."
   ]
  },
  {
   "cell_type": "markdown",
   "metadata": {},
   "source": [
    "Производить оценку метрик я буду на трех датасетах.\n",
    "\n",
    "1. На исходном\n",
    "2. На тестовой части датасета.\n",
    "3. На датасете, полученным контатенацией равных долей поддельных транзакций и неподдельных. То есть, я соединил все поддельные транзакции с тем же числом неподдельных. Это нужно, чтобы посмотреть на оценки в случае, когда число поддельных и неподдельных транзакций сбалансированно и данные оригинальные, в таком случае они более точны, поскольку у модели нет возможности предсказывать, допустим только \"0\" и при этом показывать хорошие результаты. (функция ниже)"
   ]
  },
  {
   "cell_type": "code",
   "execution_count": 246,
   "metadata": {},
   "outputs": [
    {
     "data": {
      "text/html": [
       "<div>\n",
       "<style scoped>\n",
       "    .dataframe tbody tr th:only-of-type {\n",
       "        vertical-align: middle;\n",
       "    }\n",
       "\n",
       "    .dataframe tbody tr th {\n",
       "        vertical-align: top;\n",
       "    }\n",
       "\n",
       "    .dataframe thead th {\n",
       "        text-align: right;\n",
       "    }\n",
       "</style>\n",
       "<table border=\"1\" class=\"dataframe\">\n",
       "  <thead>\n",
       "    <tr style=\"text-align: right;\">\n",
       "      <th></th>\n",
       "      <th>Time</th>\n",
       "      <th>V1</th>\n",
       "      <th>V2</th>\n",
       "      <th>V3</th>\n",
       "      <th>V4</th>\n",
       "      <th>V5</th>\n",
       "      <th>V6</th>\n",
       "      <th>V7</th>\n",
       "      <th>V8</th>\n",
       "      <th>V9</th>\n",
       "      <th>...</th>\n",
       "      <th>V21</th>\n",
       "      <th>V22</th>\n",
       "      <th>V23</th>\n",
       "      <th>V24</th>\n",
       "      <th>V25</th>\n",
       "      <th>V26</th>\n",
       "      <th>V27</th>\n",
       "      <th>V28</th>\n",
       "      <th>Amount</th>\n",
       "      <th>Class</th>\n",
       "    </tr>\n",
       "  </thead>\n",
       "  <tbody>\n",
       "    <tr>\n",
       "      <th>38710</th>\n",
       "      <td>39508.0</td>\n",
       "      <td>1.256599</td>\n",
       "      <td>-0.459633</td>\n",
       "      <td>0.034343</td>\n",
       "      <td>-0.679387</td>\n",
       "      <td>-0.540739</td>\n",
       "      <td>-0.788283</td>\n",
       "      <td>-0.043170</td>\n",
       "      <td>-0.284879</td>\n",
       "      <td>-1.281635</td>\n",
       "      <td>...</td>\n",
       "      <td>-0.120414</td>\n",
       "      <td>-0.541204</td>\n",
       "      <td>0.083329</td>\n",
       "      <td>0.081405</td>\n",
       "      <td>0.292899</td>\n",
       "      <td>-0.511416</td>\n",
       "      <td>-0.004071</td>\n",
       "      <td>0.025408</td>\n",
       "      <td>79.95</td>\n",
       "      <td>0</td>\n",
       "    </tr>\n",
       "    <tr>\n",
       "      <th>252425</th>\n",
       "      <td>155803.0</td>\n",
       "      <td>-1.463177</td>\n",
       "      <td>0.755733</td>\n",
       "      <td>1.148214</td>\n",
       "      <td>0.491549</td>\n",
       "      <td>1.216403</td>\n",
       "      <td>0.562360</td>\n",
       "      <td>0.523490</td>\n",
       "      <td>0.378477</td>\n",
       "      <td>-1.819088</td>\n",
       "      <td>...</td>\n",
       "      <td>-0.122225</td>\n",
       "      <td>-0.359679</td>\n",
       "      <td>0.095992</td>\n",
       "      <td>0.175585</td>\n",
       "      <td>0.371695</td>\n",
       "      <td>2.229715</td>\n",
       "      <td>-0.527741</td>\n",
       "      <td>-0.329794</td>\n",
       "      <td>12.19</td>\n",
       "      <td>0</td>\n",
       "    </tr>\n",
       "    <tr>\n",
       "      <th>251320</th>\n",
       "      <td>155307.0</td>\n",
       "      <td>-2.231241</td>\n",
       "      <td>0.378645</td>\n",
       "      <td>0.244558</td>\n",
       "      <td>-2.323649</td>\n",
       "      <td>-1.106478</td>\n",
       "      <td>-0.325771</td>\n",
       "      <td>-0.719739</td>\n",
       "      <td>0.820389</td>\n",
       "      <td>-0.612119</td>\n",
       "      <td>...</td>\n",
       "      <td>0.089804</td>\n",
       "      <td>-0.075685</td>\n",
       "      <td>0.082920</td>\n",
       "      <td>-0.446963</td>\n",
       "      <td>-0.439551</td>\n",
       "      <td>-0.631648</td>\n",
       "      <td>-0.586523</td>\n",
       "      <td>0.031298</td>\n",
       "      <td>40.99</td>\n",
       "      <td>0</td>\n",
       "    </tr>\n",
       "    <tr>\n",
       "      <th>80239</th>\n",
       "      <td>58392.0</td>\n",
       "      <td>-0.378529</td>\n",
       "      <td>0.684139</td>\n",
       "      <td>0.918082</td>\n",
       "      <td>0.862886</td>\n",
       "      <td>0.969763</td>\n",
       "      <td>0.764045</td>\n",
       "      <td>0.554953</td>\n",
       "      <td>0.191015</td>\n",
       "      <td>-0.199820</td>\n",
       "      <td>...</td>\n",
       "      <td>-0.069716</td>\n",
       "      <td>-0.053133</td>\n",
       "      <td>-0.279469</td>\n",
       "      <td>-1.322809</td>\n",
       "      <td>0.086468</td>\n",
       "      <td>-0.196109</td>\n",
       "      <td>0.158715</td>\n",
       "      <td>0.125476</td>\n",
       "      <td>23.17</td>\n",
       "      <td>0</td>\n",
       "    </tr>\n",
       "    <tr>\n",
       "      <th>209783</th>\n",
       "      <td>137706.0</td>\n",
       "      <td>1.930906</td>\n",
       "      <td>0.710091</td>\n",
       "      <td>-0.757991</td>\n",
       "      <td>3.730161</td>\n",
       "      <td>0.512661</td>\n",
       "      <td>-0.492584</td>\n",
       "      <td>0.434969</td>\n",
       "      <td>-0.306465</td>\n",
       "      <td>-1.312444</td>\n",
       "      <td>...</td>\n",
       "      <td>0.248510</td>\n",
       "      <td>0.764477</td>\n",
       "      <td>0.040288</td>\n",
       "      <td>0.068275</td>\n",
       "      <td>0.161119</td>\n",
       "      <td>0.124702</td>\n",
       "      <td>-0.040235</td>\n",
       "      <td>-0.047636</td>\n",
       "      <td>14.41</td>\n",
       "      <td>0</td>\n",
       "    </tr>\n",
       "  </tbody>\n",
       "</table>\n",
       "<p>5 rows × 31 columns</p>\n",
       "</div>"
      ],
      "text/plain": [
       "            Time        V1        V2        V3        V4        V5        V6  \\\n",
       "38710    39508.0  1.256599 -0.459633  0.034343 -0.679387 -0.540739 -0.788283   \n",
       "252425  155803.0 -1.463177  0.755733  1.148214  0.491549  1.216403  0.562360   \n",
       "251320  155307.0 -2.231241  0.378645  0.244558 -2.323649 -1.106478 -0.325771   \n",
       "80239    58392.0 -0.378529  0.684139  0.918082  0.862886  0.969763  0.764045   \n",
       "209783  137706.0  1.930906  0.710091 -0.757991  3.730161  0.512661 -0.492584   \n",
       "\n",
       "              V7        V8        V9  ...         V21       V22       V23  \\\n",
       "38710  -0.043170 -0.284879 -1.281635  ...   -0.120414 -0.541204  0.083329   \n",
       "252425  0.523490  0.378477 -1.819088  ...   -0.122225 -0.359679  0.095992   \n",
       "251320 -0.719739  0.820389 -0.612119  ...    0.089804 -0.075685  0.082920   \n",
       "80239   0.554953  0.191015 -0.199820  ...   -0.069716 -0.053133 -0.279469   \n",
       "209783  0.434969 -0.306465 -1.312444  ...    0.248510  0.764477  0.040288   \n",
       "\n",
       "             V24       V25       V26       V27       V28  Amount  Class  \n",
       "38710   0.081405  0.292899 -0.511416 -0.004071  0.025408   79.95      0  \n",
       "252425  0.175585  0.371695  2.229715 -0.527741 -0.329794   12.19      0  \n",
       "251320 -0.446963 -0.439551 -0.631648 -0.586523  0.031298   40.99      0  \n",
       "80239  -1.322809  0.086468 -0.196109  0.158715  0.125476   23.17      0  \n",
       "209783  0.068275  0.161119  0.124702 -0.040235 -0.047636   14.41      0  \n",
       "\n",
       "[5 rows x 31 columns]"
      ]
     },
     "execution_count": 246,
     "metadata": {},
     "output_type": "execute_result"
    }
   ],
   "source": [
    "df.head()"
   ]
  },
  {
   "cell_type": "code",
   "execution_count": 247,
   "metadata": {},
   "outputs": [],
   "source": [
    "def plot_confusion_matrix(cm, classes=[0,1],\n",
    "                          title='Confusion matrix',\n",
    "                          cmap=plt.cm.Blues):\n",
    "    \"\"\"\n",
    "    This function prints and plots the confusion matrix.\n",
    "    Normalization can be applied by setting `normalize=True`.\n",
    "    \"\"\"\n",
    "    \n",
    "\n",
    "    plt.imshow(cm, interpolation='nearest', cmap=cmap)\n",
    "    plt.title(title, fontsize=14)\n",
    "    plt.colorbar()\n",
    "    tick_marks = np.arange(len(classes))\n",
    "    plt.xticks(tick_marks, classes, rotation=45)\n",
    "    plt.yticks(tick_marks, classes)\n",
    "\n",
    "    fmt = 'd'\n",
    "    thresh = cm.max() / 2.\n",
    "    for i, j in itertools.product(range(cm.shape[0]), range(cm.shape[1])):\n",
    "        plt.text(j, i, format(cm[i, j], fmt),\n",
    "                 horizontalalignment=\"center\",\n",
    "                 color=\"white\" if cm[i, j] > thresh else \"black\")\n",
    "\n",
    "    plt.tight_layout()\n",
    "    plt.ylabel('True label')\n",
    "    plt.xlabel('Predicted label')"
   ]
  },
  {
   "cell_type": "code",
   "execution_count": 248,
   "metadata": {},
   "outputs": [],
   "source": [
    "# Соединим строки поддельных с переводов исходного датасета с таким же количеством неподдельных\n",
    "def create_balanced_data_from_initial(data):\n",
    "    \n",
    "    fraud = data[(data['Class']==1)]\n",
    "    not_fraud = data[(data['Class']==0)]\n",
    "    \n",
    "    n_fraud = len(fraud)//2\n",
    "    \n",
    "\n",
    "    X_original_unb = pd.concat([fraud[n_fraud:].drop(['Class'], axis=1),not_fraud[n_fraud:].drop(['Class'], axis=1)])\n",
    "    \n",
    "    y_original_unb = pd.concat([fraud[n_fraud:]['Class'],not_fraud[n_fraud:]['Class']])\n",
    "    \n",
    "    X_original_b = pd.concat([fraud[:n_fraud-1].drop(['Class'], axis=1),not_fraud[:n_fraud-1].drop(['Class'], axis=1)])\n",
    "    \n",
    "    y_original_b = pd.concat([fraud[:n_fraud-1]['Class'],not_fraud[:n_fraud-1]['Class']])\n",
    "    \n",
    "\n",
    "    return X_original_unb,y_original_unb,X_original_b,y_original_b\n",
    "    "
   ]
  },
  {
   "cell_type": "code",
   "execution_count": 249,
   "metadata": {},
   "outputs": [],
   "source": [
    "# Применение алгоритма ADASYN\n",
    "def create_balanced_data_adasyn(x,y):\n",
    "    sm = ADASYN(random_state=12, ratio = 'minority')\n",
    "    X,Y = sm.fit_sample(x, y)\n",
    "    X = pd.DataFrame(X,columns = ['Time','V1', 'V2', 'V3', 'V4', 'V5', 'V6', 'V7', 'V8', 'V9', 'V10',\n",
    "       'V11', 'V12', 'V13', 'V14', 'V15', 'V16', 'V17', 'V18', 'V19', 'V20',\n",
    "       'V21', 'V22', 'V23', 'V24', 'V25', 'V26', 'V27', 'V28', 'Amount'] )\n",
    "    Y = pd.DataFrame(Y,columns = ['Class'])\n",
    "    return X,Y"
   ]
  },
  {
   "cell_type": "code",
   "execution_count": 250,
   "metadata": {},
   "outputs": [],
   "source": [
    "def create_balanced_data_smote(x,y):\n",
    "    sm = SMOTE(random_state=12, ratio = 'minority')\n",
    "    X,Y = sm.fit_sample(x, y)\n",
    "    X = pd.DataFrame(X,columns = ['Time','V1', 'V2', 'V3', 'V4', 'V5', 'V6', 'V7', 'V8', 'V9', 'V10',\n",
    "       'V11', 'V12', 'V13', 'V14', 'V15', 'V16', 'V17', 'V18', 'V19', 'V20',\n",
    "       'V21', 'V22', 'V23', 'V24', 'V25', 'V26', 'V27', 'V28', 'Amount'] )\n",
    "    Y = pd.DataFrame(Y,columns = ['Class'])\n",
    "    return X,Y"
   ]
  },
  {
   "cell_type": "code",
   "execution_count": 282,
   "metadata": {},
   "outputs": [],
   "source": [
    "# def all_metrics_validation(clf,X,Y_true):\n",
    "# #     pass\n",
    "#     print(\"Accuracy score: \"+ str(accuracy_score(Y_true,clf.predict(X))))\n",
    "    \n",
    "#     print(\"ROC AUC score: \"+ str(roc_auc_score(Y_true,clf.predict_proba(X)[:,1])))\n",
    "#     # нас интересуют положительные результаты\n",
    "#     print(\"Recall score: \"+ str(recall_score(Y_true,clf.predict(X))))\n",
    "    \n",
    "#     print(\"Precicion score: \"+ str(precision_score(Y_true,clf.predict(X))))"
   ]
  },
  {
   "cell_type": "code",
   "execution_count": 283,
   "metadata": {},
   "outputs": [],
   "source": [
    "# Оценка модели на указанных датасетах\n",
    "def estimate_model(clf, X_original_b,y_original_b,  X_test, y_test):\n",
    "\n",
    "    print(\"ROC AUC score: \"+ str(roc_auc_score(y_test,clf.predict_proba(X_test)[:,1])))\n",
    "    print(classification_report(y_test,clf.predict(X_test)))"
   ]
  },
  {
   "cell_type": "code",
   "execution_count": 284,
   "metadata": {},
   "outputs": [],
   "source": []
  },
  {
   "cell_type": "code",
   "execution_count": 285,
   "metadata": {},
   "outputs": [],
   "source": [
    "# Разделим на тестовую и тренировочную\n",
    "X_train, X_test, y_train, y_test = train_test_split(X_original_unb,y_original_unb, test_size=0.3)"
   ]
  },
  {
   "cell_type": "markdown",
   "metadata": {},
   "source": [
    "Далее, при генерации данных ADASYN и SMOTE, необходимо сначала отделить тестовую и проверочную выборки, а затем для тренировочной сгенерировать новые данные. Тк в противном случае, если сначала создать новых данных, а потом разделить выборку, то синтетические данные попадут в проверочный сет."
   ]
  },
  {
   "cell_type": "code",
   "execution_count": 286,
   "metadata": {},
   "outputs": [],
   "source": [
    "datasets = {'NOT SYNTHETIC DATA':(X_train,y_train),\n",
    "          'ADASYN': create_balanced_data_adasyn(X_train, y_train),\n",
    "          'SMOTE': create_balanced_data_smote(X_train, y_train)}\n",
    "    \n"
   ]
  },
  {
   "cell_type": "code",
   "execution_count": 287,
   "metadata": {},
   "outputs": [
    {
     "data": {
      "text/plain": [
       "tuple"
      ]
     },
     "execution_count": 287,
     "metadata": {},
     "output_type": "execute_result"
    }
   ],
   "source": [
    "type(datasets['ADASYN'])"
   ]
  },
  {
   "cell_type": "markdown",
   "metadata": {},
   "source": [
    "StratifiedKFold - сохраняет процент образцов в тестовом и тренировочных сетах, поэтому такому кросс-валиждатору можно доверять"
   ]
  },
  {
   "cell_type": "markdown",
   "metadata": {},
   "source": [
    "# ADASYN"
   ]
  },
  {
   "cell_type": "markdown",
   "metadata": {},
   "source": [
    "## Случайный лес"
   ]
  },
  {
   "cell_type": "code",
   "execution_count": 288,
   "metadata": {
    "scrolled": false
   },
   "outputs": [
    {
     "name": "stdout",
     "output_type": "stream",
     "text": [
      "\n",
      "++++++++++++++++++++++\n",
      "ADASYN\n",
      "ROC AUC score: 0.9992151527835915\n",
      "             precision    recall  f1-score   support\n",
      "\n",
      "          0       1.00      1.00      1.00      2389\n",
      "          1       0.57      1.00      0.73         4\n",
      "\n",
      "avg / total       1.00      1.00      1.00      2393\n",
      "\n",
      "\n",
      "++++++++++++++++++++++\n",
      "NOT SYNTHETIC DATA\n",
      "ROC AUC score: 1.0\n",
      "             precision    recall  f1-score   support\n",
      "\n",
      "          0       1.00      1.00      1.00      2389\n",
      "          1       1.00      1.00      1.00         4\n",
      "\n",
      "avg / total       1.00      1.00      1.00      2393\n",
      "\n",
      "\n",
      "++++++++++++++++++++++\n",
      "SMOTE\n",
      "ROC AUC score: 0.9989535370447886\n",
      "             precision    recall  f1-score   support\n",
      "\n",
      "          0       1.00      1.00      1.00      2389\n",
      "          1       0.57      1.00      0.73         4\n",
      "\n",
      "avg / total       1.00      1.00      1.00      2393\n",
      "\n"
     ]
    },
    {
     "data": {
      "image/png": "[encoded data removed]",
      "text/plain": [
       "<Figure size 1152x576 with 6 Axes>"
      ]
     },
     "metadata": {},
     "output_type": "display_data"
    },
    {
     "name": "stdout",
     "output_type": "stream",
     "text": [
      "CPU times: user 3.94 s, sys: 1.49 s, total: 5.44 s\n",
      "Wall time: 12 s\n"
     ]
    }
   ],
   "source": [
    "%%time\n",
    "parameters = {\"max_depth\": [3,5, None],\n",
    "              \"n_estimators\":[15,16,20],\n",
    "              \"max_features\": [6,7,8],\n",
    "              'n_jobs':[-1]}\n",
    "\n",
    "\n",
    "skf = StratifiedKFold(n_splits=2, shuffle=True, random_state=r_state)\n",
    "\n",
    "rfc = RandomForestClassifier()\n",
    "\n",
    "gcv = GridSearchCV(rfc, parameters, n_jobs=-1, cv=skf, verbose=0,scoring='recall')\n",
    "fig = plt.figure(figsize=(16,8))\n",
    "j=1\n",
    "\n",
    "for key in sorted(datasets):\n",
    "    print('\\n++++++++++++++++++++++')\n",
    "    print(key)\n",
    "    \n",
    "    gcv.fit(datasets[key][0],datasets[key][1])\n",
    "    \n",
    "    best_rfc = gcv.best_estimator_   \n",
    "    \n",
    "     print(key,gcv.best_params_ , gcv.best_score_)\n",
    "    \n",
    "    estimate_model(gcv.best_estimator_ , X_original_b,y_original_b, X_test, y_test)\n",
    "    \n",
    "    conf_matrix = confusion_matrix(y_test,gcv.best_estimator_.predict(X_test))\n",
    "   \n",
    "    fig.add_subplot(2,3,j)\n",
    "    j += 1\n",
    "\n",
    "    plot_confusion_matrix(conf_matrix, title=key)\n",
    "plt.show()    \n",
    "\n",
    "    "
   ]
  },
  {
   "cell_type": "markdown",
   "metadata": {},
   "source": [
    "## Метод ближайших соседей"
   ]
  },
  {
   "cell_type": "code",
   "execution_count": 295,
   "metadata": {},
   "outputs": [
    {
     "name": "stdout",
     "output_type": "stream",
     "text": [
      "\n",
      "++++++++++++++++++++++\n",
      "ADASYN\n",
      "ADASYN {'n_jobs': -1, 'n_neighbors': 16} 0.6574604808622269\n",
      "ROC AUC score: 0.7576391795730432\n",
      "             precision    recall  f1-score   support\n",
      "\n",
      "          0       1.00      0.84      0.91      2389\n",
      "          1       0.01      0.75      0.02         4\n",
      "\n",
      "avg / total       1.00      0.84      0.91      2393\n",
      "\n",
      "\n",
      "++++++++++++++++++++++\n",
      "NOT SYNTHETIC DATA\n",
      "NOT SYNTHETIC DATA {'n_jobs': -1, 'n_neighbors': 10} 0.0\n",
      "ROC AUC score: 0.49372122226873166\n",
      "             precision    recall  f1-score   support\n",
      "\n",
      "          0       1.00      1.00      1.00      2389\n",
      "          1       0.00      0.00      0.00         4\n",
      "\n",
      "avg / total       1.00      1.00      1.00      2393\n",
      "\n",
      "\n",
      "++++++++++++++++++++++\n",
      "SMOTE\n",
      "SMOTE {'n_jobs': -1, 'n_neighbors': 16} 0.6710313901345292\n",
      "ROC AUC score: 0.7469129342821264\n",
      "             precision    recall  f1-score   support\n",
      "\n",
      "          0       1.00      0.82      0.90      2389\n",
      "          1       0.01      0.75      0.01         4\n",
      "\n",
      "avg / total       1.00      0.82      0.90      2393\n",
      "\n"
     ]
    },
    {
     "data": {
      "image/png": "[encoded data removed]",
      "text/plain": [
       "<Figure size 1152x576 with 6 Axes>"
      ]
     },
     "metadata": {},
     "output_type": "display_data"
    },
    {
     "name": "stdout",
     "output_type": "stream",
     "text": [
      "CPU times: user 2.72 s, sys: 1.57 s, total: 4.29 s\n",
      "Wall time: 3.36 s\n"
     ]
    }
   ],
   "source": [
    "%%time\n",
    "parameters = {'n_neighbors': range(10,30,10),'n_jobs':[-1]}\n",
    "\n",
    "skf = StratifiedKFold(n_splits=2, shuffle=True, random_state=r_state)\n",
    "\n",
    "knn = KNeighborsClassifier()\n",
    "\n",
    "gcv = GridSearchCV(knn, parameters, n_jobs=-1, cv=skf, verbose=0,scoring='recall')\n",
    "\n",
    "fig = plt.figure(figsize=(16,8))\n",
    "j=1\n",
    "\n",
    "for key in sorted(datasets):\n",
    "    print('\\n++++++++++++++++++++++')\n",
    "    print(key)\n",
    "    \n",
    "    gcv.fit(datasets[key][0],datasets[key][1])\n",
    "    \n",
    "    best_knn = gcv.best_estimator_   \n",
    "    \n",
    "    print(key,gcv.best_params_ , gcv.best_score_)\n",
    "    \n",
    "    estimate_model(gcv.best_estimator_ , X_original_b,y_original_b, X_test, y_test)\n",
    "    \n",
    "    conf_matrix = confusion_matrix(y_test,gcv.best_estimator_.predict(X_test))\n",
    "   \n",
    "    fig.add_subplot(2,3,j)\n",
    "    j += 1\n",
    "\n",
    "    plot_confusion_matrix(conf_matrix, title=key)\n",
    "plt.show()    \n"
   ]
  },
  {
   "cell_type": "markdown",
   "metadata": {},
   "source": [
    "## Логистическая регрессия"
   ]
  },
  {
   "cell_type": "code",
   "execution_count": 290,
   "metadata": {
    "scrolled": false
   },
   "outputs": [
    {
     "name": "stdout",
     "output_type": "stream",
     "text": [
      "\n",
      "++++++++++++++++++++++\n",
      "ADASYN\n",
      "Fitting 2 folds for each of 8 candidates, totalling 16 fits\n"
     ]
    },
    {
     "name": "stderr",
     "output_type": "stream",
     "text": [
      "[Parallel(n_jobs=-1)]: Done  16 out of  16 | elapsed:    0.7s finished\n"
     ]
    },
    {
     "name": "stdout",
     "output_type": "stream",
     "text": [
      "ROC AUC score: 0.9992674759313521\n",
      "             precision    recall  f1-score   support\n",
      "\n",
      "          0       1.00      1.00      1.00      2389\n",
      "          1       0.50      1.00      0.67         4\n",
      "\n",
      "avg / total       1.00      1.00      1.00      2393\n",
      "\n",
      "\n",
      "++++++++++++++++++++++\n",
      "NOT SYNTHETIC DATA\n",
      "Fitting 2 folds for each of 8 candidates, totalling 16 fits\n"
     ]
    },
    {
     "name": "stderr",
     "output_type": "stream",
     "text": [
      "[Parallel(n_jobs=-1)]: Done  16 out of  16 | elapsed:    0.5s finished\n"
     ]
    },
    {
     "name": "stdout",
     "output_type": "stream",
     "text": [
      "ROC AUC score: 0.9987442444537463\n",
      "             precision    recall  f1-score   support\n",
      "\n",
      "          0       1.00      1.00      1.00      2389\n",
      "          1       0.60      0.75      0.67         4\n",
      "\n",
      "avg / total       1.00      1.00      1.00      2393\n",
      "\n",
      "\n",
      "++++++++++++++++++++++\n",
      "SMOTE\n",
      "Fitting 2 folds for each of 8 candidates, totalling 16 fits\n"
     ]
    },
    {
     "name": "stderr",
     "output_type": "stream",
     "text": [
      "[Parallel(n_jobs=-1)]: Done  16 out of  16 | elapsed:    0.7s finished\n"
     ]
    },
    {
     "name": "stdout",
     "output_type": "stream",
     "text": [
      "ROC AUC score: 0.9993721222268731\n",
      "             precision    recall  f1-score   support\n",
      "\n",
      "          0       1.00      1.00      1.00      2389\n",
      "          1       0.50      1.00      0.67         4\n",
      "\n",
      "avg / total       1.00      1.00      1.00      2393\n",
      "\n"
     ]
    },
    {
     "data": {
      "image/png": "[encoded data removed]",
      "text/plain": [
       "<Figure size 1152x576 with 6 Axes>"
      ]
     },
     "metadata": {},
     "output_type": "display_data"
    },
    {
     "name": "stdout",
     "output_type": "stream",
     "text": [
      "CPU times: user 1.64 s, sys: 1.74 s, total: 3.39 s\n",
      "Wall time: 3.36 s\n"
     ]
    }
   ],
   "source": [
    "%%time\n",
    "logit = LogisticRegression(n_jobs=-1)       \n",
    "\n",
    "parameters = {'C': [5,10,20,30],'penalty':['l1', 'l2']}\n",
    "\n",
    "skf = StratifiedKFold(n_splits=2, shuffle=True, random_state=r_state)\n",
    "\n",
    "gcv = GridSearchCV(logit, parameters, n_jobs=-1, cv=skf, verbose=0,scoring='recall')\n",
    "\n",
    "fig = plt.figure(figsize=(16,8))\n",
    "j=1\n",
    "\n",
    "for key in sorted(datasets):\n",
    "    print('\\n++++++++++++++++++++++')\n",
    "    print(key)\n",
    "    \n",
    "    gcv.fit(datasets[key][0],datasets[key][1])\n",
    "    \n",
    "    best_logit = gcv.best_estimator_   \n",
    "    \n",
    "     print(key,gcv.best_params_ , gcv.best_score_)\n",
    "    \n",
    "    estimate_model(gcv.best_estimator_ , X_original_b,y_original_b, X_test, y_test)\n",
    "    \n",
    "    conf_matrix = confusion_matrix(y_test,gcv.best_estimator_.predict(X_test))\n",
    "   \n",
    "    fig.add_subplot(2,3,j)\n",
    "    j += 1\n",
    "\n",
    "    plot_confusion_matrix(conf_matrix, title=key)\n",
    "plt.show()    \n"
   ]
  },
  {
   "cell_type": "markdown",
   "metadata": {},
   "source": [
    "## Нейросеть\n",
    "\n"
   ]
  },
  {
   "cell_type": "markdown",
   "metadata": {},
   "source": [
    "Поскольку перед нами не стоит задача распознавания изображений, у нас не так много данных и они не имею слишком большой размерности, то воспользуемся встроенной в SKlearn нейросетью - MultiLayerClassifier"
   ]
  },
  {
   "cell_type": "code",
   "execution_count": 291,
   "metadata": {},
   "outputs": [
    {
     "name": "stdout",
     "output_type": "stream",
     "text": [
      "\n",
      "++++++++++++++++++++++\n",
      "ADASYN\n",
      "Fitting 2 folds for each of 3 candidates, totalling 6 fits\n"
     ]
    },
    {
     "name": "stderr",
     "output_type": "stream",
     "text": [
      "[Parallel(n_jobs=-1)]: Done   6 out of   6 | elapsed:    0.8s finished\n"
     ]
    },
    {
     "name": "stdout",
     "output_type": "stream",
     "text": [
      "ROC AUC score: 0.6235872750104647\n",
      "             precision    recall  f1-score   support\n",
      "\n",
      "          0       1.00      1.00      1.00      2389\n",
      "          1       0.00      0.00      0.00         4\n",
      "\n",
      "avg / total       1.00      1.00      1.00      2393\n",
      "\n",
      "\n",
      "++++++++++++++++++++++\n",
      "NOT SYNTHETIC DATA\n",
      "Fitting 2 folds for each of 3 candidates, totalling 6 fits\n"
     ]
    },
    {
     "name": "stderr",
     "output_type": "stream",
     "text": [
      "[Parallel(n_jobs=-1)]: Done   6 out of   6 | elapsed:    4.1s finished\n"
     ]
    },
    {
     "name": "stdout",
     "output_type": "stream",
     "text": [
      "ROC AUC score: 0.6069485140226036\n",
      "             precision    recall  f1-score   support\n",
      "\n",
      "          0       1.00      1.00      1.00      2389\n",
      "          1       0.00      0.00      0.00         4\n",
      "\n",
      "avg / total       1.00      1.00      1.00      2393\n",
      "\n",
      "\n",
      "++++++++++++++++++++++\n",
      "SMOTE\n",
      "Fitting 2 folds for each of 3 candidates, totalling 6 fits\n"
     ]
    },
    {
     "name": "stderr",
     "output_type": "stream",
     "text": [
      "[Parallel(n_jobs=-1)]: Done   6 out of   6 | elapsed:    0.9s finished\n"
     ]
    },
    {
     "name": "stdout",
     "output_type": "stream",
     "text": [
      "ROC AUC score: 0.3969233989116786\n",
      "             precision    recall  f1-score   support\n",
      "\n",
      "          0       1.00      0.51      0.67      2389\n",
      "          1       0.00      0.75      0.01         4\n",
      "\n",
      "avg / total       1.00      0.51      0.67      2393\n",
      "\n"
     ]
    },
    {
     "data": {
      "image/png": "[encoded data removed]",
      "text/plain": [
       "<Figure size 1152x576 with 6 Axes>"
      ]
     },
     "metadata": {},
     "output_type": "display_data"
    },
    {
     "name": "stdout",
     "output_type": "stream",
     "text": [
      "CPU times: user 2.16 s, sys: 1.81 s, total: 3.97 s\n",
      "Wall time: 7.92 s\n"
     ]
    }
   ],
   "source": [
    "%%time\n",
    "\n",
    "scaler = RobustScaler()\n",
    "scaler.fit_transform(X_train_adasyn['Amount'].values.reshape(-1, 1))\n",
    "# rob_scaler.fit_transform(X_train_adasyn['Time'].values.reshape(-1, 1))\n",
    "\n",
    "\n",
    "mlp = MLPClassifier(random_state=r_state)\n",
    "parameters = {'activation':['logistic'], 'alpha':[1e-5],'hidden_layer_sizes':[(10,),(10,30,10,),(40,100,)],'learning_rate':['adaptive']}\n",
    "\n",
    "skf = StratifiedKFold(n_splits=2, shuffle=True, random_state=r_state)\n",
    "\n",
    "gcv = GridSearchCV(mlp, parameters, n_jobs=-1, cv=skf, verbose=1,scoring='recall')\n",
    "\n",
    "fig = plt.figure(figsize=(16,8))\n",
    "j=1\n",
    "\n",
    "for key in sorted(datasets):\n",
    "    print('\\n++++++++++++++++++++++')\n",
    "    print(key)\n",
    "    \n",
    "    gcv.fit(datasets[key][0],datasets[key][1])\n",
    "    \n",
    "    best_mlp = gcv.best_estimator_   \n",
    "    \n",
    "    print(key,gcv.best_params_ , gcv.best_score_)\n",
    "    \n",
    "    estimate_model(gcv.best_estimator_ , scaler.transform(X_original_b),y_original_b, scaler.transform(X_test),y_test)\n",
    "    \n",
    "    conf_matrix = confusion_matrix(y_test,gcv.best_estimator_.predict(X_test))\n",
    "   \n",
    "    fig.add_subplot(2,3,j)\n",
    "    j += 1\n",
    "\n",
    "    plot_confusion_matrix(conf_matrix, title=key)\n",
    "plt.show()    \n"
   ]
  }
 ],
 "metadata": {
  "kernelspec": {
   "display_name": "Python 3",
   "language": "python",
   "name": "python3"
  },
  "language_info": {
   "codemirror_mode": {
    "name": "ipython",
    "version": 3
   },
   "file_extension": ".py",
   "mimetype": "text/x-python",
   "name": "python",
   "nbconvert_exporter": "python",
   "pygments_lexer": "ipython3",
   "version": "3.6.5"
  }
 },
 "nbformat": 4,
 "nbformat_minor": 2
}
