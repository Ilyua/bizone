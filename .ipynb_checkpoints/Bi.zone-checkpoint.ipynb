{
 "cells": [
  {
   "cell_type": "code",
   "execution_count": 1,
   "metadata": {
    "scrolled": true
   },
   "outputs": [
    {
     "data": {
      "application/javascript": [
       "IPython.notebook.set_autosave_interval(60000)"
      ]
     },
     "metadata": {},
     "output_type": "display_data"
    },
    {
     "name": "stdout",
     "output_type": "stream",
     "text": [
      "Autosaving every 60 seconds\n"
     ]
    }
   ],
   "source": [
    "%autosave 60"
   ]
  },
  {
   "cell_type": "code",
   "execution_count": 2,
   "metadata": {},
   "outputs": [],
   "source": [
    "import warnings\n",
    "warnings.simplefilter('ignore')\n",
    "\n",
    "import pandas as pd\n",
    "import numpy as np\n",
    "\n",
    "from sklearn.tree import DecisionTreeClassifier\n",
    "from sklearn.model_selection import train_test_split\n",
    "from sklearn import decomposition\n",
    "from sklearn.metrics import accuracy_score, roc_auc_score,recall_score,make_scorer\n",
    "from sklearn.metrics import precision_score\n",
    "from sklearn.model_selection import train_test_split, StratifiedKFold\n",
    "from sklearn.neighbors import KNeighborsClassifier\n",
    "from sklearn.ensemble import RandomForestClassifier, BaggingClassifier,IsolationForest\n",
    "from sklearn.model_selection import cross_val_score, StratifiedKFold, GridSearchCV\n",
    "from sklearn.manifold import TSNE\n",
    "from sklearn.preprocessing import StandardScaler\n",
    "from sklearn.preprocessing import PolynomialFeatures\n",
    "from sklearn.linear_model import LogisticRegression, LogisticRegressionCV\n",
    "from sklearn.pipeline import Pipeline\n",
    "from sklearn.preprocessing import StandardScaler, RobustScaler  \n",
    "from sklearn.neural_network import MLPClassifier\n",
    "from sklearn.metrics import confusion_matrix\n",
    "\n",
    "# стороняя библиотека для работы с несбалансированными датасетами\n",
    "# pip install imblearn\n",
    "from imblearn.over_sampling import SMOTE, ADASYN\n",
    "\n",
    "# настройки отображения графиков\n",
    "# %config InlineBackend.figure_format = 'svg' \n",
    "import matplotlib.pyplot as plt\n",
    "import seaborn as sns\n",
    "sns.set(style=\"ticks\", color_codes=True)\n",
    "%matplotlib inline\n",
    "\n",
    "# увеличим  размер графиков\n",
    "from pylab import rcParams\n",
    "rcParams['figure.figsize'] = 8,7\n",
    "\n",
    "from tqdm import tqdm_notebook\n",
    "import itertools\n",
    "# для воспроизводимости\n",
    "r_state = 11"
   ]
  },
  {
   "cell_type": "code",
   "execution_count": 3,
   "metadata": {},
   "outputs": [],
   "source": [
    "data_path = './data/creditcard.csv'"
   ]
  },
  {
   "cell_type": "code",
   "execution_count": 4,
   "metadata": {},
   "outputs": [],
   "source": [
    "df = pd.read_csv(data_path)"
   ]
  },
  {
   "cell_type": "markdown",
   "metadata": {},
   "source": [
    "Проверим, что все считалось должным образом: данные проскалены"
   ]
  },
  {
   "cell_type": "code",
   "execution_count": 5,
   "metadata": {},
   "outputs": [
    {
     "data": {
      "text/html": [
       "<div>\n",
       "<style scoped>\n",
       "    .dataframe tbody tr th:only-of-type {\n",
       "        vertical-align: middle;\n",
       "    }\n",
       "\n",
       "    .dataframe tbody tr th {\n",
       "        vertical-align: top;\n",
       "    }\n",
       "\n",
       "    .dataframe thead th {\n",
       "        text-align: right;\n",
       "    }\n",
       "</style>\n",
       "<table border=\"1\" class=\"dataframe\">\n",
       "  <thead>\n",
       "    <tr style=\"text-align: right;\">\n",
       "      <th></th>\n",
       "      <th>Time</th>\n",
       "      <th>V1</th>\n",
       "      <th>V2</th>\n",
       "      <th>V3</th>\n",
       "      <th>V4</th>\n",
       "      <th>V5</th>\n",
       "      <th>V6</th>\n",
       "      <th>V7</th>\n",
       "      <th>V8</th>\n",
       "      <th>V9</th>\n",
       "      <th>...</th>\n",
       "      <th>V21</th>\n",
       "      <th>V22</th>\n",
       "      <th>V23</th>\n",
       "      <th>V24</th>\n",
       "      <th>V25</th>\n",
       "      <th>V26</th>\n",
       "      <th>V27</th>\n",
       "      <th>V28</th>\n",
       "      <th>Amount</th>\n",
       "      <th>Class</th>\n",
       "    </tr>\n",
       "  </thead>\n",
       "  <tbody>\n",
       "    <tr>\n",
       "      <th>0</th>\n",
       "      <td>0.0</td>\n",
       "      <td>-1.359807</td>\n",
       "      <td>-0.072781</td>\n",
       "      <td>2.536347</td>\n",
       "      <td>1.378155</td>\n",
       "      <td>-0.338321</td>\n",
       "      <td>0.462388</td>\n",
       "      <td>0.239599</td>\n",
       "      <td>0.098698</td>\n",
       "      <td>0.363787</td>\n",
       "      <td>...</td>\n",
       "      <td>-0.018307</td>\n",
       "      <td>0.277838</td>\n",
       "      <td>-0.110474</td>\n",
       "      <td>0.066928</td>\n",
       "      <td>0.128539</td>\n",
       "      <td>-0.189115</td>\n",
       "      <td>0.133558</td>\n",
       "      <td>-0.021053</td>\n",
       "      <td>149.62</td>\n",
       "      <td>0</td>\n",
       "    </tr>\n",
       "    <tr>\n",
       "      <th>1</th>\n",
       "      <td>0.0</td>\n",
       "      <td>1.191857</td>\n",
       "      <td>0.266151</td>\n",
       "      <td>0.166480</td>\n",
       "      <td>0.448154</td>\n",
       "      <td>0.060018</td>\n",
       "      <td>-0.082361</td>\n",
       "      <td>-0.078803</td>\n",
       "      <td>0.085102</td>\n",
       "      <td>-0.255425</td>\n",
       "      <td>...</td>\n",
       "      <td>-0.225775</td>\n",
       "      <td>-0.638672</td>\n",
       "      <td>0.101288</td>\n",
       "      <td>-0.339846</td>\n",
       "      <td>0.167170</td>\n",
       "      <td>0.125895</td>\n",
       "      <td>-0.008983</td>\n",
       "      <td>0.014724</td>\n",
       "      <td>2.69</td>\n",
       "      <td>0</td>\n",
       "    </tr>\n",
       "    <tr>\n",
       "      <th>2</th>\n",
       "      <td>1.0</td>\n",
       "      <td>-1.358354</td>\n",
       "      <td>-1.340163</td>\n",
       "      <td>1.773209</td>\n",
       "      <td>0.379780</td>\n",
       "      <td>-0.503198</td>\n",
       "      <td>1.800499</td>\n",
       "      <td>0.791461</td>\n",
       "      <td>0.247676</td>\n",
       "      <td>-1.514654</td>\n",
       "      <td>...</td>\n",
       "      <td>0.247998</td>\n",
       "      <td>0.771679</td>\n",
       "      <td>0.909412</td>\n",
       "      <td>-0.689281</td>\n",
       "      <td>-0.327642</td>\n",
       "      <td>-0.139097</td>\n",
       "      <td>-0.055353</td>\n",
       "      <td>-0.059752</td>\n",
       "      <td>378.66</td>\n",
       "      <td>0</td>\n",
       "    </tr>\n",
       "    <tr>\n",
       "      <th>3</th>\n",
       "      <td>1.0</td>\n",
       "      <td>-0.966272</td>\n",
       "      <td>-0.185226</td>\n",
       "      <td>1.792993</td>\n",
       "      <td>-0.863291</td>\n",
       "      <td>-0.010309</td>\n",
       "      <td>1.247203</td>\n",
       "      <td>0.237609</td>\n",
       "      <td>0.377436</td>\n",
       "      <td>-1.387024</td>\n",
       "      <td>...</td>\n",
       "      <td>-0.108300</td>\n",
       "      <td>0.005274</td>\n",
       "      <td>-0.190321</td>\n",
       "      <td>-1.175575</td>\n",
       "      <td>0.647376</td>\n",
       "      <td>-0.221929</td>\n",
       "      <td>0.062723</td>\n",
       "      <td>0.061458</td>\n",
       "      <td>123.50</td>\n",
       "      <td>0</td>\n",
       "    </tr>\n",
       "    <tr>\n",
       "      <th>4</th>\n",
       "      <td>2.0</td>\n",
       "      <td>-1.158233</td>\n",
       "      <td>0.877737</td>\n",
       "      <td>1.548718</td>\n",
       "      <td>0.403034</td>\n",
       "      <td>-0.407193</td>\n",
       "      <td>0.095921</td>\n",
       "      <td>0.592941</td>\n",
       "      <td>-0.270533</td>\n",
       "      <td>0.817739</td>\n",
       "      <td>...</td>\n",
       "      <td>-0.009431</td>\n",
       "      <td>0.798278</td>\n",
       "      <td>-0.137458</td>\n",
       "      <td>0.141267</td>\n",
       "      <td>-0.206010</td>\n",
       "      <td>0.502292</td>\n",
       "      <td>0.219422</td>\n",
       "      <td>0.215153</td>\n",
       "      <td>69.99</td>\n",
       "      <td>0</td>\n",
       "    </tr>\n",
       "  </tbody>\n",
       "</table>\n",
       "<p>5 rows × 31 columns</p>\n",
       "</div>"
      ],
      "text/plain": [
       "   Time        V1        V2        V3        V4        V5        V6        V7  \\\n",
       "0   0.0 -1.359807 -0.072781  2.536347  1.378155 -0.338321  0.462388  0.239599   \n",
       "1   0.0  1.191857  0.266151  0.166480  0.448154  0.060018 -0.082361 -0.078803   \n",
       "2   1.0 -1.358354 -1.340163  1.773209  0.379780 -0.503198  1.800499  0.791461   \n",
       "3   1.0 -0.966272 -0.185226  1.792993 -0.863291 -0.010309  1.247203  0.237609   \n",
       "4   2.0 -1.158233  0.877737  1.548718  0.403034 -0.407193  0.095921  0.592941   \n",
       "\n",
       "         V8        V9  ...         V21       V22       V23       V24  \\\n",
       "0  0.098698  0.363787  ...   -0.018307  0.277838 -0.110474  0.066928   \n",
       "1  0.085102 -0.255425  ...   -0.225775 -0.638672  0.101288 -0.339846   \n",
       "2  0.247676 -1.514654  ...    0.247998  0.771679  0.909412 -0.689281   \n",
       "3  0.377436 -1.387024  ...   -0.108300  0.005274 -0.190321 -1.175575   \n",
       "4 -0.270533  0.817739  ...   -0.009431  0.798278 -0.137458  0.141267   \n",
       "\n",
       "        V25       V26       V27       V28  Amount  Class  \n",
       "0  0.128539 -0.189115  0.133558 -0.021053  149.62      0  \n",
       "1  0.167170  0.125895 -0.008983  0.014724    2.69      0  \n",
       "2 -0.327642 -0.139097 -0.055353 -0.059752  378.66      0  \n",
       "3  0.647376 -0.221929  0.062723  0.061458  123.50      0  \n",
       "4 -0.206010  0.502292  0.219422  0.215153   69.99      0  \n",
       "\n",
       "[5 rows x 31 columns]"
      ]
     },
     "execution_count": 5,
     "metadata": {},
     "output_type": "execute_result"
    }
   ],
   "source": [
    "df.head()"
   ]
  },
  {
   "cell_type": "markdown",
   "metadata": {},
   "source": [
    "Сперва посмотрим на распределение меток у целевого класса:"
   ]
  },
  {
   "cell_type": "code",
   "execution_count": 6,
   "metadata": {},
   "outputs": [],
   "source": [
    "# sns.countplot(df['Class']);"
   ]
  },
  {
   "cell_type": "markdown",
   "metadata": {},
   "source": [
    "Оценим, насколько мошеннические транзакции коррелируют со временем:"
   ]
  },
  {
   "cell_type": "code",
   "execution_count": 7,
   "metadata": {},
   "outputs": [],
   "source": [
    "# sns.distplot(df[df['Class']==1]['Time'],100);"
   ]
  },
  {
   "cell_type": "markdown",
   "metadata": {},
   "source": [
    "Как видим, распределение числа мошеннических транзакций во времени имеет примерно равномерный характер, следовательно, можно исключить из выборки этот признак. Тем более, что это время отсчитывалось, начиная от первой транзакции, следовательно, оно не имеет ценности"
   ]
  },
  {
   "cell_type": "markdown",
   "metadata": {},
   "source": [
    "Посмотрим как пространство признаков изображается при двумерной проекции(на примере признаков 'V11', 'V12', 'V13', 'V14', 'V15') :"
   ]
  },
  {
   "cell_type": "code",
   "execution_count": 8,
   "metadata": {},
   "outputs": [],
   "source": [
    "# %%time\n",
    "\n",
    "# rcParams['figure.figsize'] = 12,12\n",
    "# sns_plot = sns.pairplot(df,vars=['V11', 'V12', 'V13', 'V14', 'V15'],hue=\"Class\",markers=[\"o\", \"s\"])\n",
    "# rcParams['figure.figsize'] = 8,7"
   ]
  },
  {
   "cell_type": "markdown",
   "metadata": {},
   "source": [
    "Для получения качественных оценок работы алгоритма, я буду сравнивать такие метрики как:\n",
    "- **Recall score**\n",
    "\n",
    "   Это оценка вида: \n",
    "   \n",
    "   $$score = {tp \\over tp + fn}$$\n",
    "   \n",
    "   tp - число предсказаний, когда модель верно обнаружила нужные транзакции.\n",
    "   \n",
    "   fn - число предсказаний, когда модель не распознала поддельный перевод.\n",
    "   \n",
    "   Чем ближе это значение к 1, тем меньше модель пропускает поддельных транзакций. Но, возможно, она будет помечать некоторые переводы как поддельные, хотя они таковыми не являются. Следующие метрики должны помочь проконтролировать этот аспект.\n",
    "   \n",
    "   \n",
    "- **Accuracy**\n",
    "\n",
    "   Доля верных ответов, будем его тоже учитывать.\n",
    "   \n",
    "   \n",
    "- **ROC AUC score**\n",
    "\n",
    "   Площадь, ограниченная ROC-кривой и осью доли ложных положительных классификаций.\n",
    "   Эта метрика позволяет судить о качестве бинарной классификации и в совокупности с Recall score должна дать нам наглядное представление о работе классификатора."
   ]
  },
  {
   "cell_type": "code",
   "execution_count": 9,
   "metadata": {},
   "outputs": [],
   "source": [
    "# df = df.sample(n=100000,random_state = r_state)"
   ]
  },
  {
   "cell_type": "markdown",
   "metadata": {},
   "source": [
    "С помощью этой функции будем выводить информацию обо всех метриках для данной выборки и классификатора:"
   ]
  },
  {
   "cell_type": "markdown",
   "metadata": {},
   "source": [
    "Для того, что получить сбалансированный датасет, я буду использовать алгоритм ADASYN(Adaptive Synthetic Sampling),поскольку SMOTE (Synthetic Minority Over-sampling Technique) создает больше примеров внутри кластера, а ADASYN создает больше синтетических примеров на границе. \n",
    "\n",
    "В случае, когда данные генерируются ADASYN, модель становится более \"подозрительной\", поскольку будет лучше опознавать мошеннические транзакции на границе двух кластеров, ведь ADASYN может расширить границы имеющего кластера. Хотя это и может привести к ошибкам рода False Positive, мне кажется, что такой подход будет надежнее и более подходит для предотвращения мошенничества."
   ]
  },
  {
   "cell_type": "markdown",
   "metadata": {},
   "source": [
    "Производить оценку метрик я буду на трех датасетах.\n",
    "\n",
    "1. На исходном\n",
    "2. На тестовой части датасета.\n",
    "3. На датасете, полученным контатенацией равных долей поддельных транзакций и неподдельных. То есть, я соединил все поддельные транзакции с тем же числом неподдельных. Это нужно, чтобы посмотреть на оценки в случае, когда число поддельных и неподдельных транзакций сбалансированно и данные оригинальные, в таком случае они более точны, поскольку у модели нет возможности предсказывать, допустим только \"0\" и при этом показывать хорошие результаты. (функция ниже)"
   ]
  },
  {
   "cell_type": "code",
   "execution_count": 10,
   "metadata": {},
   "outputs": [],
   "source": [
    "# Соединим строки поддельных с переводов исходного датасета с таким же количеством неподдельных\n",
    "def create_balanced_data_from_initial(data):\n",
    "    \n",
    "    fraud = data[(data['Class']==1)]\n",
    "    not_fraud = data[(data['Class']==0)]\n",
    "    \n",
    "    n_fraud = len(fraud)//2\n",
    "    \n",
    "\n",
    "    X_original_unb = pd.concat([fraud[n_fraud:].drop(['Class','Time'], axis=1)\n",
    "                                    ,not_fraud[n_fraud:].drop(['Class','Time'], axis=1)])\n",
    "    \n",
    "    y_original_unb = pd.concat([fraud[n_fraud:]['Class']\n",
    "                                    ,not_fraud[n_fraud:]['Class']])\n",
    "    \n",
    "    \n",
    "    X_original_b = pd.concat([fraud[:n_fraud-1].drop(['Class','Time'], axis=1)\n",
    "                                 ,not_fraud[:n_fraud-1].drop(['Class','Time'], axis=1)])\n",
    "    \n",
    "    y_original_b = pd.concat([fraud[:n_fraud-1]['Class']\n",
    "                                 ,not_fraud[:n_fraud-1]['Class']])\n",
    "    \n",
    "\n",
    "    return X_original_unb,y_original_unb,X_original_b,y_original_b\n",
    "    "
   ]
  },
  {
   "cell_type": "code",
   "execution_count": 11,
   "metadata": {},
   "outputs": [],
   "source": [
    "# Применение алгоритма ADASYN\n",
    "def create_balanced_data_adasyn(x,y):\n",
    "    sm = ADASYN(random_state=12, ratio = 'minority')\n",
    "    X,Y = sm.fit_sample(x, y)\n",
    "    X = pd.DataFrame(X,columns = ['V1', 'V2', 'V3', 'V4', 'V5', 'V6', 'V7', 'V8', 'V9', 'V10',\n",
    "       'V11', 'V12', 'V13', 'V14', 'V15', 'V16', 'V17', 'V18', 'V19', 'V20',\n",
    "       'V21', 'V22', 'V23', 'V24', 'V25', 'V26', 'V27', 'V28', 'Amount'] )\n",
    "    Y = pd.DataFrame(Y,columns = ['Class'])\n",
    "    return X,Y"
   ]
  },
  {
   "cell_type": "code",
   "execution_count": 12,
   "metadata": {},
   "outputs": [],
   "source": [
    "def create_balanced_data_smote(x,y):\n",
    "    sm = SMOTE(random_state=12, ratio = 'minority')\n",
    "    X,Y = sm.fit_sample(x, y)\n",
    "    X = pd.DataFrame(X,columns = ['V1', 'V2', 'V3', 'V4', 'V5', 'V6', 'V7', 'V8', 'V9', 'V10',\n",
    "       'V11', 'V12', 'V13', 'V14', 'V15', 'V16', 'V17', 'V18', 'V19', 'V20',\n",
    "       'V21', 'V22', 'V23', 'V24', 'V25', 'V26', 'V27', 'V28', 'Amount'] )\n",
    "    Y = pd.DataFrame(Y,columns = ['Class'])\n",
    "    return X,Y"
   ]
  },
  {
   "cell_type": "code",
   "execution_count": 13,
   "metadata": {},
   "outputs": [],
   "source": [
    "def all_metrics_validation(clf,X,Y_true):\n",
    "    print(\"Accuracy score: \"+ str(accuracy_score(Y_true,clf.predict(X))))\n",
    "    \n",
    "    print(\"ROC AUC score: \"+ str(roc_auc_score(Y_true,clf.predict_proba(X)[:,1])))\n",
    "    # нас интересуют положительные результаты\n",
    "    print(\"Recall score: \"+ str(recall_score(Y_true,clf.predict(X))))\n",
    "    \n",
    "    print(\"Precicion score: \"+ str(precision_score(Y_true,clf.predict(X))))"
   ]
  },
  {
   "cell_type": "code",
   "execution_count": 14,
   "metadata": {},
   "outputs": [],
   "source": [
    "# Оценка модели на указанных датасетах\n",
    "def estimate_model(clf, X_original_b,y_original_b,  X_test, y_test):\n",
    "\n",
    "    print('\\nМетрики на тестовой части :\\n')\n",
    "    all_metrics_validation(clf,X_test, y_test)\n",
    "    \n",
    "    print('\\nМетрики на небольшой сбалансированой части,составленной из элементов оригинального датасета:\\n')\n",
    "    all_metrics_validation(clf,X_original_b,y_original_b)\n",
    "    "
   ]
  },
  {
   "cell_type": "code",
   "execution_count": 15,
   "metadata": {},
   "outputs": [],
   "source": [
    "X_original_unb,y_original_unb,X_original_b,y_original_b = create_balanced_data_from_initial(df)"
   ]
  },
  {
   "cell_type": "code",
   "execution_count": 16,
   "metadata": {},
   "outputs": [
    {
     "data": {
      "text/plain": [
       "0    284069\n",
       "1       246\n",
       "Name: Class, dtype: int64"
      ]
     },
     "execution_count": 16,
     "metadata": {},
     "output_type": "execute_result"
    }
   ],
   "source": [
    "y_original_unb.value_counts()"
   ]
  },
  {
   "cell_type": "code",
   "execution_count": 17,
   "metadata": {},
   "outputs": [
    {
     "data": {
      "text/plain": [
       "1    245\n",
       "0    245\n",
       "Name: Class, dtype: int64"
      ]
     },
     "execution_count": 17,
     "metadata": {},
     "output_type": "execute_result"
    }
   ],
   "source": [
    "y_original_b.value_counts()"
   ]
  },
  {
   "cell_type": "code",
   "execution_count": 18,
   "metadata": {},
   "outputs": [],
   "source": [
    "# Разделим на тестовую и тренировочную\n",
    "X_train, X_test, y_train, y_test = train_test_split(X_original_unb,y_original_unb, test_size=0.3)"
   ]
  },
  {
   "cell_type": "markdown",
   "metadata": {},
   "source": [
    "Далее, при генерации данных ADASYN, необходимо сначала отделить тестовую и проверочную выборки, а затем для тренировочной сгенерировать новые данные. Тк в противном случае, если сначала создать новых данных, а потом разделить выборку, то синтетические данные попадут в проверочный сет."
   ]
  },
  {
   "cell_type": "code",
   "execution_count": 19,
   "metadata": {},
   "outputs": [],
   "source": [
    "X_train_adasyn, y_train_adasyn = create_balanced_data_adasyn(X_train, y_train)"
   ]
  },
  {
   "cell_type": "code",
   "execution_count": 20,
   "metadata": {},
   "outputs": [],
   "source": [
    "# X_train_adasyn = X_train\n",
    "# y_train_adasyn =pd.DataFrame(y_train,columns = ['Class'])"
   ]
  },
  {
   "cell_type": "code",
   "execution_count": 21,
   "metadata": {},
   "outputs": [
    {
     "data": {
      "text/plain": [
       "0    198849\n",
       "1    198818\n",
       "Name: Class, dtype: int64"
      ]
     },
     "execution_count": 21,
     "metadata": {},
     "output_type": "execute_result"
    },
    {
     "data": {
      "image/png": "[encoded data removed]",
      "text/plain": [
       "<Figure size 432x288 with 1 Axes>"
      ]
     },
     "metadata": {},
     "output_type": "display_data"
    }
   ],
   "source": [
    "sns.countplot(y_train_adasyn['Class']);y_train_adasyn['Class'].value_counts()"
   ]
  },
  {
   "cell_type": "markdown",
   "metadata": {},
   "source": [
    "StratifiedKFold - сохраняет процент образцов в тестовом и тренировочных сетах, поэтому такому кросс-валиждатору можно доверять"
   ]
  },
  {
   "cell_type": "code",
   "execution_count": 22,
   "metadata": {},
   "outputs": [],
   "source": [
    "def plot_confusion_matrix(cm, normalize=False,title='Confusion matrix',cmap=plt.cm.Blues):\n",
    "    \n",
    "    \"\"\"\n",
    "    This function prints and plots the confusion matrix.\n",
    "    Normalization can be applied by setting `normalize=True`.\n",
    "    \"\"\"\n",
    "    classes=[0,1]\n",
    "    plt.imshow(cm, interpolation='nearest', cmap=cmap)\n",
    "    plt.title(title)\n",
    "    plt.colorbar()\n",
    "    tick_marks = np.arange(len(classes))\n",
    "    plt.xticks(tick_marks, classes, rotation=0)\n",
    "    plt.yticks(tick_marks, classes)\n",
    "\n",
    "    if normalize:\n",
    "        cm = cm.astype('float') / cm.sum(axis=1)[:, np.newaxis]\n",
    "        #print(\"Normalized confusion matrix\")\n",
    "    else:\n",
    "        1#print('Confusion matrix, without normalization')\n",
    "\n",
    "    #print(cm)\n",
    "\n",
    "    thresh = cm.max() / 2.\n",
    "    for i, j in itertools.product(range(cm.shape[0]), range(cm.shape[1])):\n",
    "        plt.text(j, i, cm[i, j],\n",
    "                 horizontalalignment=\"center\",\n",
    "                 color=\"white\" if cm[i, j] > thresh else \"black\")\n",
    "\n",
    "    plt.tight_layout()\n",
    "    plt.ylabel('True label')\n",
    "    plt.xlabel('Predicted label')\n",
    "    plt.figure()\n",
    "    plt.show()\n",
    "   "
   ]
  },
  {
   "cell_type": "markdown",
   "metadata": {},
   "source": [
    "# XGBOOST"
   ]
  },
  {
   "cell_type": "code",
   "execution_count": 23,
   "metadata": {},
   "outputs": [],
   "source": [
    "# %%time\n",
    "# import xgboost as xgb\n",
    "\n",
    "# skf = StratifiedKFold(n_splits=2, shuffle=True, random_state=r_state)\n",
    "# parameters ={}\n",
    "# xgclf = xgb.XGBClassifier(n_jobs=-1)\n",
    "\n",
    "# gcv = GridSearchCV(xgclf, parameters,n_jobs=-1, cv=skf, verbose=2)\n",
    "\n",
    "# gcv.fit(X_train_adasyn, y_train_adasyn)\n",
    "# best_xgclf = gcv.best_estimator_\n",
    "# gcv.best_params_ , gcv.best_score_\n",
    "# estimate_model(best_xgclf , X_original_b,y_original_b, X_test, y_test)\n",
    "# plot_confusion_matrix(confusion_matrix(y_test,best_xgclf.predict(X_test)));"
   ]
  },
  {
   "cell_type": "markdown",
   "metadata": {},
   "source": [
    "# Случайный лес"
   ]
  },
  {
   "cell_type": "code",
   "execution_count": 24,
   "metadata": {},
   "outputs": [
    {
     "name": "stdout",
     "output_type": "stream",
     "text": [
      "Fitting 2 folds for each of 27 candidates, totalling 54 fits\n"
     ]
    },
    {
     "name": "stderr",
     "output_type": "stream",
     "text": [
      "[Parallel(n_jobs=-1)]: Done  34 tasks      | elapsed:  1.1min\n",
      "[Parallel(n_jobs=-1)]: Done  54 out of  54 | elapsed:  2.7min finished\n"
     ]
    },
    {
     "name": "stdout",
     "output_type": "stream",
     "text": [
      "CPU times: user 1min 42s, sys: 227 ms, total: 1min 43s\n",
      "Wall time: 2min 55s\n"
     ]
    }
   ],
   "source": [
    "%%time\n",
    "parameters = {\"max_depth\": [3,5, None],\n",
    "              \"n_estimators\":[15,16,20],\n",
    "              \"max_features\": [6,7,8],\n",
    "              'n_jobs':[-1]}\n",
    "\n",
    "\n",
    "skf = StratifiedKFold(n_splits=2, shuffle=True, random_state=r_state)\n",
    "\n",
    "rfc = RandomForestClassifier()\n",
    "\n",
    "gcv = GridSearchCV(rfc, parameters, n_jobs=-1, cv=skf, verbose=1,scoring='recall')\n",
    "\n",
    "gcv.fit(X_train_adasyn, y_train_adasyn)"
   ]
  },
  {
   "cell_type": "code",
   "execution_count": 25,
   "metadata": {},
   "outputs": [
    {
     "data": {
      "text/plain": [
       "({'max_depth': None, 'max_features': 8, 'n_estimators': 15, 'n_jobs': -1},\n",
       " 0.9999949702616732)"
      ]
     },
     "execution_count": 25,
     "metadata": {},
     "output_type": "execute_result"
    }
   ],
   "source": [
    "best_rfc = gcv.best_estimator_\n",
    "gcv.best_params_ , gcv.best_score_"
   ]
  },
  {
   "cell_type": "code",
   "execution_count": 26,
   "metadata": {},
   "outputs": [
    {
     "name": "stdout",
     "output_type": "stream",
     "text": [
      "\n",
      "Метрики на тестовой части :\n",
      "\n",
      "Accuracy score: 0.9996951755671493\n",
      "ROC AUC score: 0.9591411249315497\n",
      "Recall score: 0.7866666666666666\n",
      "Precicion score: 0.855072463768116\n",
      "\n",
      "Метрики на небольшой сбалансированой части,составленной из элементов оригинального датасета:\n",
      "\n",
      "Accuracy score: 0.7816326530612245\n",
      "ROC AUC score: 0.9208163265306122\n",
      "Recall score: 0.563265306122449\n",
      "Precicion score: 1.0\n"
     ]
    }
   ],
   "source": [
    "estimate_model(best_rfc , X_original_b,y_original_b, X_test, y_test)"
   ]
  },
  {
   "cell_type": "code",
   "execution_count": 27,
   "metadata": {},
   "outputs": [
    {
     "data": {
      "image/png": "[encoded data removed]",
      "text/plain": [
       "<Figure size 432x288 with 2 Axes>"
      ]
     },
     "metadata": {},
     "output_type": "display_data"
    },
    {
     "data": {
      "text/plain": [
       "<Figure size 432x288 with 0 Axes>"
      ]
     },
     "metadata": {},
     "output_type": "display_data"
    }
   ],
   "source": [
    "plot_confusion_matrix(confusion_matrix(y_test,best_rfc.predict(X_test)));"
   ]
  },
  {
   "cell_type": "markdown",
   "metadata": {},
   "source": [
    "# Метод ближайших соседей"
   ]
  },
  {
   "cell_type": "code",
   "execution_count": 28,
   "metadata": {},
   "outputs": [
    {
     "name": "stdout",
     "output_type": "stream",
     "text": [
      "Fitting 2 folds for each of 1 candidates, totalling 2 fits\n"
     ]
    },
    {
     "name": "stderr",
     "output_type": "stream",
     "text": [
      "[Parallel(n_jobs=-1)]: Done   2 out of   2 | elapsed:  1.7min remaining:    0.0s\n",
      "[Parallel(n_jobs=-1)]: Done   2 out of   2 | elapsed:  1.7min finished\n"
     ]
    },
    {
     "name": "stdout",
     "output_type": "stream",
     "text": [
      "CPU times: user 1.56 s, sys: 252 ms, total: 1.81 s\n",
      "Wall time: 1min 45s\n"
     ]
    }
   ],
   "source": [
    "%%time\n",
    "parameters = {'n_neighbors': range(30,40,10),'n_jobs':[-1]}\n",
    "\n",
    "skf = StratifiedKFold(n_splits=2, shuffle=True, random_state=r_state)\n",
    "\n",
    "knn = KNeighborsClassifier()\n",
    "\n",
    "gcv = GridSearchCV(knn, parameters, n_jobs=-1, cv=skf, verbose=1,scoring='precision')\n",
    "\n",
    "gcv.fit(X_train_adasyn, y_train_adasyn)"
   ]
  },
  {
   "cell_type": "code",
   "execution_count": 29,
   "metadata": {},
   "outputs": [
    {
     "data": {
      "text/plain": [
       "({'n_jobs': -1, 'n_neighbors': 30}, 0.9835964375635128)"
      ]
     },
     "execution_count": 29,
     "metadata": {},
     "output_type": "execute_result"
    }
   ],
   "source": [
    "best_knn = gcv.best_estimator_\n",
    "gcv.best_params_ , gcv.best_score_"
   ]
  },
  {
   "cell_type": "code",
   "execution_count": 30,
   "metadata": {},
   "outputs": [
    {
     "name": "stdout",
     "output_type": "stream",
     "text": [
      "\n",
      "Метрики на тестовой части :\n",
      "\n",
      "Accuracy score: 0.9875842663696582\n",
      "ROC AUC score: 0.9580608620824532\n",
      "Recall score: 0.92\n",
      "Precicion score: 0.06149732620320856\n",
      "\n",
      "Метрики на небольшой сбалансированой части,составленной из элементов оригинального датасета:\n",
      "\n",
      "Accuracy score: 0.9102040816326531\n",
      "ROC AUC score: 0.9204831320283214\n",
      "Recall score: 0.8285714285714286\n",
      "Precicion score: 0.9902439024390244\n"
     ]
    }
   ],
   "source": [
    "estimate_model(best_knn, X_original_b,y_original_b,  X_test, y_test)"
   ]
  },
  {
   "cell_type": "code",
   "execution_count": 31,
   "metadata": {},
   "outputs": [
    {
     "data": {
      "image/png": "[encoded data removed]",
      "text/plain": [
       "<Figure size 432x288 with 2 Axes>"
      ]
     },
     "metadata": {},
     "output_type": "display_data"
    },
    {
     "data": {
      "text/plain": [
       "<Figure size 432x288 with 0 Axes>"
      ]
     },
     "metadata": {},
     "output_type": "display_data"
    }
   ],
   "source": [
    "plot_confusion_matrix(confusion_matrix(y_test,best_knn.predict(X_test)));"
   ]
  },
  {
   "cell_type": "markdown",
   "metadata": {},
   "source": [
    "# Логистическая регрессия"
   ]
  },
  {
   "cell_type": "code",
   "execution_count": 32,
   "metadata": {
    "scrolled": true
   },
   "outputs": [
    {
     "name": "stdout",
     "output_type": "stream",
     "text": [
      "Fitting 2 folds for each of 8 candidates, totalling 16 fits\n"
     ]
    },
    {
     "name": "stderr",
     "output_type": "stream",
     "text": [
      "[Parallel(n_jobs=-1)]: Done  16 out of  16 | elapsed:  4.1min finished\n"
     ]
    },
    {
     "name": "stdout",
     "output_type": "stream",
     "text": [
      "CPU times: user 59.8 s, sys: 388 ms, total: 1min\n",
      "Wall time: 5min 1s\n"
     ]
    }
   ],
   "source": [
    "%%time\n",
    "logit = LogisticRegression(n_jobs=-1)       \n",
    "\n",
    "parameters = {'C': [5,10,20,30],'penalty':['l1', 'l2']}\n",
    "\n",
    "skf = StratifiedKFold(n_splits=2, shuffle=True, random_state=r_state)\n",
    "\n",
    "gcv = GridSearchCV(logit, parameters, n_jobs=-1, cv=skf, verbose=1,scoring='recall')\n",
    "\n",
    "gcv.fit(X_train_adasyn, y_train_adasyn)"
   ]
  },
  {
   "cell_type": "code",
   "execution_count": 33,
   "metadata": {},
   "outputs": [
    {
     "data": {
      "text/plain": [
       "({'C': 10, 'penalty': 'l1'}, 0.9749217870574025)"
      ]
     },
     "execution_count": 33,
     "metadata": {},
     "output_type": "execute_result"
    }
   ],
   "source": [
    "best_logit= gcv.best_estimator_\n",
    "gcv.best_params_ , gcv.best_score_"
   ]
  },
  {
   "cell_type": "code",
   "execution_count": 34,
   "metadata": {},
   "outputs": [
    {
     "name": "stdout",
     "output_type": "stream",
     "text": [
      "\n",
      "Метрики на тестовой части :\n",
      "\n",
      "Accuracy score: 0.9729526935928249\n",
      "ROC AUC score: 0.9894312759133225\n",
      "Recall score: 0.9333333333333333\n",
      "Precicion score: 0.02951096121416526\n",
      "\n",
      "Метрики на небольшой сбалансированой части,составленной из элементов оригинального датасета:\n",
      "\n",
      "Accuracy score: 0.8857142857142857\n",
      "ROC AUC score: 0.8813161182840483\n",
      "Recall score: 0.7918367346938775\n",
      "Precicion score: 0.9748743718592965\n"
     ]
    }
   ],
   "source": [
    "estimate_model(best_logit, X_original_b,y_original_b,  X_test, y_test)"
   ]
  },
  {
   "cell_type": "code",
   "execution_count": 35,
   "metadata": {},
   "outputs": [
    {
     "data": {
      "image/png": "[encoded data removed]",
      "text/plain": [
       "<Figure size 432x288 with 2 Axes>"
      ]
     },
     "metadata": {},
     "output_type": "display_data"
    },
    {
     "data": {
      "text/plain": [
       "<Figure size 432x288 with 0 Axes>"
      ]
     },
     "metadata": {},
     "output_type": "display_data"
    }
   ],
   "source": [
    "plot_confusion_matrix(confusion_matrix(y_test,best_logit.predict(X_test)));"
   ]
  },
  {
   "cell_type": "markdown",
   "metadata": {},
   "source": [
    "# Нейросеть\n",
    "\n"
   ]
  },
  {
   "cell_type": "markdown",
   "metadata": {},
   "source": [
    "Поскольку перед нами не стоит задача распознавания изображений, у нас не так много данных и они не имею слишком большой размерности, то воспользуемся встроенной в SKlearn нейросетью - MultiLayerClassifier"
   ]
  },
  {
   "cell_type": "code",
   "execution_count": 36,
   "metadata": {},
   "outputs": [
    {
     "name": "stdout",
     "output_type": "stream",
     "text": [
      "Fitting 2 folds for each of 2 candidates, totalling 4 fits\n"
     ]
    },
    {
     "name": "stderr",
     "output_type": "stream",
     "text": [
      "[Parallel(n_jobs=-1)]: Done   4 out of   4 | elapsed:  4.2min remaining:    0.0s\n",
      "[Parallel(n_jobs=-1)]: Done   4 out of   4 | elapsed:  4.2min finished\n"
     ]
    },
    {
     "name": "stdout",
     "output_type": "stream",
     "text": [
      "CPU times: user 5min 7s, sys: 7min 19s, total: 12min 27s\n",
      "Wall time: 5min 49s\n"
     ]
    }
   ],
   "source": [
    "%%time\n",
    "\n",
    "scaler = RobustScaler()\n",
    "scaler.fit_transform(X_train_adasyn['Amount'].values.reshape(-1, 1))\n",
    "# rob_scaler.fit_transform(X_train_adasyn['Time'].values.reshape(-1, 1))\n",
    "\n",
    "\n",
    "mlp = MLPClassifier(random_state=r_state)\n",
    "parameters = {'activation':['logistic'], 'alpha':[1e-5],'hidden_layer_sizes':[(512,), (128, 256,)],'learning_rate':['adaptive']}\n",
    "\n",
    "skf = StratifiedKFold(n_splits=2, shuffle=True, random_state=r_state)\n",
    "\n",
    "gcv = GridSearchCV(mlp, parameters, n_jobs=-1, cv=skf, verbose=1,scoring='recall')\n",
    "\n",
    "gcv.fit(X_train_adasyn, y_train_adasyn)"
   ]
  },
  {
   "cell_type": "code",
   "execution_count": 37,
   "metadata": {},
   "outputs": [
    {
     "data": {
      "text/plain": [
       "({'activation': 'logistic',\n",
       "  'alpha': 1e-05,\n",
       "  'hidden_layer_sizes': (128, 256),\n",
       "  'learning_rate': 'adaptive'},\n",
       " 0.9999195241867704)"
      ]
     },
     "execution_count": 37,
     "metadata": {},
     "output_type": "execute_result"
    }
   ],
   "source": [
    "best_mlp = gcv.best_estimator_\n",
    "gcv.best_params_ , gcv.best_score_"
   ]
  },
  {
   "cell_type": "code",
   "execution_count": 38,
   "metadata": {},
   "outputs": [
    {
     "name": "stdout",
     "output_type": "stream",
     "text": [
      "\n",
      "Метрики на тестовой части :\n",
      "\n",
      "Accuracy score: 0.9991206987513922\n",
      "ROC AUC score: 0.8166344363607917\n",
      "Recall score: 0.0\n",
      "Precicion score: 0.0\n",
      "\n",
      "Метрики на небольшой сбалансированой части,составленной из элементов оригинального датасета:\n",
      "\n",
      "Accuracy score: 0.5\n",
      "ROC AUC score: 0.8112952936276552\n",
      "Recall score: 0.0\n",
      "Precicion score: 0.0\n"
     ]
    }
   ],
   "source": [
    "estimate_model(best_mlp, scaler.transform(X_original_b),y_original_b, scaler.transform(X_test),y_test)"
   ]
  },
  {
   "cell_type": "code",
   "execution_count": 39,
   "metadata": {},
   "outputs": [
    {
     "data": {
      "image/png": "[encoded data removed]",
      "text/plain": [
       "<Figure size 432x288 with 2 Axes>"
      ]
     },
     "metadata": {},
     "output_type": "display_data"
    },
    {
     "data": {
      "text/plain": [
       "<Figure size 432x288 with 0 Axes>"
      ]
     },
     "metadata": {},
     "output_type": "display_data"
    }
   ],
   "source": [
    "plot_confusion_matrix(confusion_matrix(y_test,best_mlp.predict(X_test)));"
   ]
  },
  {
   "cell_type": "code",
   "execution_count": null,
   "metadata": {},
   "outputs": [],
   "source": []
  },
  {
   "cell_type": "markdown",
   "metadata": {},
   "source": [
    "# SMOTE"
   ]
  },
  {
   "cell_type": "code",
   "execution_count": 40,
   "metadata": {},
   "outputs": [],
   "source": [
    "# Разделим на тестовую и тренировочную\n",
    "X_train, X_test, y_train, y_test = train_test_split(X_original_unb,y_original_unb, test_size=0.3)"
   ]
  },
  {
   "cell_type": "markdown",
   "metadata": {},
   "source": [
    "Далее, при генерации данных ADASYN, необходимо сначала отделить тестовую и проверочную выборки, а затем для тренировочной сгенерировать новые данные. Тк в противном случае, если сначала создать новых данных, а потом разделить выборку, то синтетические данные попадут в проверочный сет."
   ]
  },
  {
   "cell_type": "code",
   "execution_count": 41,
   "metadata": {},
   "outputs": [],
   "source": [
    "X_train_adasyn, y_train_adasyn = create_balanced_data_smote(X_train, y_train)"
   ]
  },
  {
   "cell_type": "markdown",
   "metadata": {},
   "source": [
    "StratifiedKFold - сохраняет процент образцов в тестовом и тренировочных сетах, поэтому такому кросс-валиждатору можно доверять"
   ]
  },
  {
   "cell_type": "markdown",
   "metadata": {},
   "source": [
    "# XGBOOST"
   ]
  },
  {
   "cell_type": "code",
   "execution_count": 42,
   "metadata": {},
   "outputs": [],
   "source": [
    "# %%time\n",
    "# import xgboost as xgb\n",
    "\n",
    "# skf = StratifiedKFold(n_splits=2, shuffle=True, random_state=r_state)\n",
    "# parameters ={}\n",
    "# xgclf = xgb.XGBClassifier(n_jobs=-1)\n",
    "\n",
    "# gcv = GridSearchCV(xgclf, parameters,n_jobs=-1, cv=skf, verbose=2)\n",
    "\n",
    "# gcv.fit(X_train_adasyn, y_train_adasyn)\n",
    "# best_xgclf = gcv.best_estimator_\n",
    "# gcv.best_params_ , gcv.best_score_\n",
    "# estimate_model(best_xgclf , X_original_b,y_original_b, X_test, y_test)\n",
    "# plot_confusion_matrix(confusion_matrix(y_test,best_xgclf.predict(X_test)));"
   ]
  },
  {
   "cell_type": "markdown",
   "metadata": {},
   "source": [
    "# Случайный лес"
   ]
  },
  {
   "cell_type": "code",
   "execution_count": 43,
   "metadata": {},
   "outputs": [
    {
     "name": "stdout",
     "output_type": "stream",
     "text": [
      "Fitting 2 folds for each of 27 candidates, totalling 54 fits\n"
     ]
    },
    {
     "name": "stderr",
     "output_type": "stream",
     "text": [
      "[Parallel(n_jobs=-1)]: Done  34 tasks      | elapsed:  1.2min\n",
      "[Parallel(n_jobs=-1)]: Done  54 out of  54 | elapsed:  2.8min finished\n"
     ]
    },
    {
     "name": "stdout",
     "output_type": "stream",
     "text": [
      "CPU times: user 2min 8s, sys: 286 ms, total: 2min 9s\n",
      "Wall time: 3min 8s\n"
     ]
    }
   ],
   "source": [
    "%%time\n",
    "parameters = {\"max_depth\": [3,5, None],\n",
    "              \"n_estimators\":[15,16,20],\n",
    "              \"max_features\": [6,7,8],\n",
    "              'n_jobs':[-1]}\n",
    "\n",
    "\n",
    "skf = StratifiedKFold(n_splits=2, shuffle=True, random_state=r_state)\n",
    "\n",
    "rfc = RandomForestClassifier()\n",
    "\n",
    "gcv = GridSearchCV(rfc, parameters, n_jobs=-1, cv=skf, verbose=1,scoring='recall')\n",
    "\n",
    "gcv.fit(X_train_adasyn, y_train_adasyn)"
   ]
  },
  {
   "cell_type": "code",
   "execution_count": 44,
   "metadata": {},
   "outputs": [
    {
     "data": {
      "text/plain": [
       "({'max_depth': None, 'max_features': 7, 'n_estimators': 20, 'n_jobs': -1}, 1.0)"
      ]
     },
     "execution_count": 44,
     "metadata": {},
     "output_type": "execute_result"
    }
   ],
   "source": [
    "best_rfc = gcv.best_estimator_\n",
    "gcv.best_params_ , gcv.best_score_"
   ]
  },
  {
   "cell_type": "code",
   "execution_count": 45,
   "metadata": {},
   "outputs": [
    {
     "name": "stdout",
     "output_type": "stream",
     "text": [
      "\n",
      "Метрики на тестовой части :\n",
      "\n",
      "Accuracy score: 0.9996717275338531\n",
      "ROC AUC score: 0.9531902594811841\n",
      "Recall score: 0.7922077922077922\n",
      "Precicion score: 0.8356164383561644\n",
      "\n",
      "Метрики на небольшой сбалансированой части,составленной из элементов оригинального датасета:\n",
      "\n",
      "Accuracy score: 0.8040816326530612\n",
      "ROC AUC score: 0.9325947521865889\n",
      "Recall score: 0.6081632653061224\n",
      "Precicion score: 1.0\n"
     ]
    }
   ],
   "source": [
    "estimate_model(best_rfc , X_original_b,y_original_b, X_test, y_test)"
   ]
  },
  {
   "cell_type": "code",
   "execution_count": 46,
   "metadata": {},
   "outputs": [
    {
     "data": {
      "image/png": "[encoded data removed]",
      "text/plain": [
       "<Figure size 432x288 with 2 Axes>"
      ]
     },
     "metadata": {},
     "output_type": "display_data"
    },
    {
     "data": {
      "text/plain": [
       "<Figure size 432x288 with 0 Axes>"
      ]
     },
     "metadata": {},
     "output_type": "display_data"
    }
   ],
   "source": [
    "plot_confusion_matrix(confusion_matrix(y_test,best_rfc.predict(X_test)));"
   ]
  },
  {
   "cell_type": "markdown",
   "metadata": {},
   "source": [
    "# Метод ближайших соседей"
   ]
  },
  {
   "cell_type": "code",
   "execution_count": 47,
   "metadata": {},
   "outputs": [
    {
     "name": "stdout",
     "output_type": "stream",
     "text": [
      "Fitting 2 folds for each of 1 candidates, totalling 2 fits\n"
     ]
    },
    {
     "name": "stderr",
     "output_type": "stream",
     "text": [
      "[Parallel(n_jobs=-1)]: Done   2 out of   2 | elapsed:  1.8min remaining:    0.0s\n",
      "[Parallel(n_jobs=-1)]: Done   2 out of   2 | elapsed:  1.8min finished\n"
     ]
    },
    {
     "name": "stdout",
     "output_type": "stream",
     "text": [
      "CPU times: user 1.78 s, sys: 262 ms, total: 2.05 s\n",
      "Wall time: 1min 48s\n"
     ]
    }
   ],
   "source": [
    "%%time\n",
    "parameters = {'n_neighbors': range(30,40,10),'n_jobs':[-1]}\n",
    "\n",
    "skf = StratifiedKFold(n_splits=2, shuffle=True, random_state=r_state)\n",
    "\n",
    "knn = KNeighborsClassifier()\n",
    "\n",
    "gcv = GridSearchCV(knn, parameters, n_jobs=-1, cv=skf, verbose=1,scoring='precision')\n",
    "\n",
    "gcv.fit(X_train_adasyn, y_train_adasyn)"
   ]
  },
  {
   "cell_type": "code",
   "execution_count": 48,
   "metadata": {},
   "outputs": [
    {
     "data": {
      "text/plain": [
       "({'n_jobs': -1, 'n_neighbors': 30}, 0.9853869549322829)"
      ]
     },
     "execution_count": 48,
     "metadata": {},
     "output_type": "execute_result"
    }
   ],
   "source": [
    "best_knn = gcv.best_estimator_\n",
    "gcv.best_params_ , gcv.best_score_"
   ]
  },
  {
   "cell_type": "code",
   "execution_count": 49,
   "metadata": {},
   "outputs": [
    {
     "name": "stdout",
     "output_type": "stream",
     "text": [
      "\n",
      "Метрики на тестовой части :\n",
      "\n",
      "Accuracy score: 0.9888504601676534\n",
      "ROC AUC score: 0.9327363007571414\n",
      "Recall score: 0.8701298701298701\n",
      "Precicion score: 0.06646825396825397\n",
      "\n",
      "Метрики на небольшой сбалансированой части,составленной из элементов оригинального датасета:\n",
      "\n",
      "Accuracy score: 0.9163265306122449\n",
      "ROC AUC score: 0.9225072886297376\n",
      "Recall score: 0.8408163265306122\n",
      "Precicion score: 0.9903846153846154\n"
     ]
    }
   ],
   "source": [
    "estimate_model(best_knn, X_original_b,y_original_b,  X_test, y_test)"
   ]
  },
  {
   "cell_type": "code",
   "execution_count": 50,
   "metadata": {},
   "outputs": [
    {
     "data": {
      "image/png": "[encoded data removed]",
      "text/plain": [
       "<Figure size 432x288 with 2 Axes>"
      ]
     },
     "metadata": {},
     "output_type": "display_data"
    },
    {
     "data": {
      "text/plain": [
       "<Figure size 432x288 with 0 Axes>"
      ]
     },
     "metadata": {},
     "output_type": "display_data"
    }
   ],
   "source": [
    "plot_confusion_matrix(confusion_matrix(y_test,best_knn.predict(X_test)));"
   ]
  },
  {
   "cell_type": "markdown",
   "metadata": {},
   "source": [
    "# Логистическая регрессия"
   ]
  },
  {
   "cell_type": "code",
   "execution_count": 51,
   "metadata": {
    "scrolled": true
   },
   "outputs": [
    {
     "name": "stdout",
     "output_type": "stream",
     "text": [
      "Fitting 2 folds for each of 8 candidates, totalling 16 fits\n"
     ]
    },
    {
     "name": "stderr",
     "output_type": "stream",
     "text": [
      "[Parallel(n_jobs=-1)]: Done  16 out of  16 | elapsed:  3.5min finished\n"
     ]
    },
    {
     "name": "stdout",
     "output_type": "stream",
     "text": [
      "CPU times: user 41.2 s, sys: 408 ms, total: 41.6 s\n",
      "Wall time: 4min 9s\n"
     ]
    }
   ],
   "source": [
    "%%time\n",
    "logit = LogisticRegression(n_jobs=-1)       \n",
    "\n",
    "parameters = {'C': [5,10,20,30],'penalty':['l1', 'l2']}\n",
    "\n",
    "skf = StratifiedKFold(n_splits=2, shuffle=True, random_state=r_state)\n",
    "\n",
    "gcv = GridSearchCV(logit, parameters, n_jobs=-1, cv=skf, verbose=1,scoring='recall')\n",
    "\n",
    "gcv.fit(X_train_adasyn, y_train_adasyn)"
   ]
  },
  {
   "cell_type": "code",
   "execution_count": 52,
   "metadata": {},
   "outputs": [
    {
     "data": {
      "text/plain": [
       "({'C': 30, 'penalty': 'l1'}, 0.9693891406128207)"
      ]
     },
     "execution_count": 52,
     "metadata": {},
     "output_type": "execute_result"
    }
   ],
   "source": [
    "best_logit= gcv.best_estimator_\n",
    "gcv.best_params_ , gcv.best_score_"
   ]
  },
  {
   "cell_type": "code",
   "execution_count": 53,
   "metadata": {},
   "outputs": [
    {
     "name": "stdout",
     "output_type": "stream",
     "text": [
      "\n",
      "Метрики на тестовой части :\n",
      "\n",
      "Accuracy score: 0.9838560290755612\n",
      "ROC AUC score: 0.9906746425439659\n",
      "Recall score: 0.8961038961038961\n",
      "Precicion score: 0.04798331015299027\n",
      "\n",
      "Метрики на небольшой сбалансированой части,составленной из элементов оригинального датасета:\n",
      "\n",
      "Accuracy score: 0.9142857142857143\n",
      "ROC AUC score: 0.928646397334444\n",
      "Recall score: 0.8408163265306122\n",
      "Precicion score: 0.9856459330143541\n"
     ]
    }
   ],
   "source": [
    "estimate_model(best_logit, X_original_b,y_original_b,  X_test, y_test)"
   ]
  },
  {
   "cell_type": "code",
   "execution_count": 54,
   "metadata": {},
   "outputs": [
    {
     "data": {
      "image/png": "[encoded data removed]",
      "text/plain": [
       "<Figure size 432x288 with 2 Axes>"
      ]
     },
     "metadata": {},
     "output_type": "display_data"
    },
    {
     "data": {
      "text/plain": [
       "<Figure size 432x288 with 0 Axes>"
      ]
     },
     "metadata": {},
     "output_type": "display_data"
    }
   ],
   "source": [
    "plot_confusion_matrix(confusion_matrix(y_test,best_logit.predict(X_test)));"
   ]
  },
  {
   "cell_type": "markdown",
   "metadata": {},
   "source": [
    "# Нейросеть\n",
    "\n"
   ]
  },
  {
   "cell_type": "markdown",
   "metadata": {},
   "source": [
    "Поскольку перед нами не стоит задача распознавания изображений, у нас не так много данных и они не имею слишком большой размерности, то воспользуемся встроенной в SKlearn нейросетью - MultiLayerClassifier"
   ]
  },
  {
   "cell_type": "code",
   "execution_count": 55,
   "metadata": {},
   "outputs": [
    {
     "name": "stdout",
     "output_type": "stream",
     "text": [
      "Fitting 2 folds for each of 2 candidates, totalling 4 fits\n"
     ]
    },
    {
     "name": "stderr",
     "output_type": "stream",
     "text": [
      "[Parallel(n_jobs=-1)]: Done   4 out of   4 | elapsed:  5.5min remaining:    0.0s\n",
      "[Parallel(n_jobs=-1)]: Done   4 out of   4 | elapsed:  5.5min finished\n"
     ]
    },
    {
     "name": "stdout",
     "output_type": "stream",
     "text": [
      "CPU times: user 5min 44s, sys: 8min 5s, total: 13min 50s\n",
      "Wall time: 7min 11s\n"
     ]
    }
   ],
   "source": [
    "%%time\n",
    "\n",
    "scaler = RobustScaler()\n",
    "scaler.fit_transform(X_train_adasyn['Amount'].values.reshape(-1, 1))\n",
    "# rob_scaler.fit_transform(X_train_adasyn['Time'].values.reshape(-1, 1))\n",
    "\n",
    "\n",
    "mlp = MLPClassifier(random_state=r_state)\n",
    "parameters = {'activation':['logistic'], 'alpha':[1e-5],'hidden_layer_sizes':[(512,), (128, 256, )],'learning_rate':['adaptive']}\n",
    "\n",
    "skf = StratifiedKFold(n_splits=2, shuffle=True, random_state=r_state)\n",
    "\n",
    "gcv = GridSearchCV(mlp, parameters, n_jobs=-1, cv=skf, verbose=1,scoring='recall')\n",
    "\n",
    "gcv.fit(X_train_adasyn, y_train_adasyn)"
   ]
  },
  {
   "cell_type": "code",
   "execution_count": 56,
   "metadata": {},
   "outputs": [
    {
     "data": {
      "text/plain": [
       "({'activation': 'logistic',\n",
       "  'alpha': 1e-05,\n",
       "  'hidden_layer_sizes': (128, 256),\n",
       "  'learning_rate': 'adaptive'},\n",
       " 1.0)"
      ]
     },
     "execution_count": 56,
     "metadata": {},
     "output_type": "execute_result"
    }
   ],
   "source": [
    "best_mlp = gcv.best_estimator_\n",
    "gcv.best_params_ , gcv.best_score_"
   ]
  },
  {
   "cell_type": "code",
   "execution_count": 57,
   "metadata": {},
   "outputs": [
    {
     "name": "stdout",
     "output_type": "stream",
     "text": [
      "\n",
      "Метрики на тестовой части :\n",
      "\n",
      "Accuracy score: 0.9990972507180961\n",
      "ROC AUC score: 0.839412166138914\n",
      "Recall score: 0.0\n",
      "Precicion score: 0.0\n",
      "\n",
      "Метрики на небольшой сбалансированой части,составленной из элементов оригинального датасета:\n",
      "\n",
      "Accuracy score: 0.5\n",
      "ROC AUC score: 0.8799833402748856\n",
      "Recall score: 0.0\n",
      "Precicion score: 0.0\n"
     ]
    }
   ],
   "source": [
    "estimate_model(best_mlp, scaler.transform(X_original_b),y_original_b, scaler.transform(X_test),y_test)"
   ]
  },
  {
   "cell_type": "code",
   "execution_count": 58,
   "metadata": {},
   "outputs": [
    {
     "data": {
      "image/png": "[encoded data removed]",
      "text/plain": [
       "<Figure size 432x288 with 2 Axes>"
      ]
     },
     "metadata": {},
     "output_type": "display_data"
    },
    {
     "data": {
      "text/plain": [
       "<Figure size 432x288 with 0 Axes>"
      ]
     },
     "metadata": {},
     "output_type": "display_data"
    }
   ],
   "source": [
    "plot_confusion_matrix(confusion_matrix(y_test,best_mlp.predict(X_test)));"
   ]
  },
  {
   "cell_type": "markdown",
   "metadata": {},
   "source": [
    "# CLEAR DATA"
   ]
  },
  {
   "cell_type": "code",
   "execution_count": 59,
   "metadata": {},
   "outputs": [],
   "source": [
    "# Разделим на тестовую и тренировочную\n",
    "X_train, X_test, y_train, y_test = train_test_split(X_original_unb,y_original_unb, test_size=0.3)"
   ]
  },
  {
   "cell_type": "markdown",
   "metadata": {},
   "source": [
    "Далее, при генерации данных ADASYN, необходимо сначала отделить тестовую и проверочную выборки, а затем для тренировочной сгенерировать новые данные. Тк в противном случае, если сначала создать новых данных, а потом разделить выборку, то синтетические данные попадут в проверочный сет."
   ]
  },
  {
   "cell_type": "code",
   "execution_count": 60,
   "metadata": {},
   "outputs": [],
   "source": [
    "X_train_adasyn, y_train_adasyn = (X_original_unb,y_original_unb)"
   ]
  },
  {
   "cell_type": "markdown",
   "metadata": {},
   "source": [
    "# XGBOOST"
   ]
  },
  {
   "cell_type": "code",
   "execution_count": 61,
   "metadata": {},
   "outputs": [],
   "source": [
    "# %%time\n",
    "# import xgboost as xgb\n",
    "\n",
    "# skf = StratifiedKFold(n_splits=2, shuffle=True, random_state=r_state)\n",
    "# parameters ={}\n",
    "# xgclf = xgb.XGBClassifier(n_jobs=-1)\n",
    "\n",
    "# gcv = GridSearchCV(xgclf, parameters,n_jobs=-1, cv=skf, verbose=2)\n",
    "\n",
    "# gcv.fit(X_train_adasyn, y_train_adasyn)\n",
    "# best_xgclf = gcv.best_estimator_\n",
    "# gcv.best_params_ , gcv.best_score_\n",
    "# estimate_model(best_xgclf , X_original_b,y_original_b, X_test, y_test)\n",
    "# plot_confusion_matrix(confusion_matrix(y_test,best_xgclf.predict(X_test)));"
   ]
  },
  {
   "cell_type": "markdown",
   "metadata": {},
   "source": [
    "# Случайный лес"
   ]
  },
  {
   "cell_type": "code",
   "execution_count": 62,
   "metadata": {},
   "outputs": [
    {
     "name": "stdout",
     "output_type": "stream",
     "text": [
      "Fitting 2 folds for each of 27 candidates, totalling 54 fits\n"
     ]
    },
    {
     "name": "stderr",
     "output_type": "stream",
     "text": [
      "[Parallel(n_jobs=-1)]: Done  34 tasks      | elapsed:   43.5s\n",
      "[Parallel(n_jobs=-1)]: Done  54 out of  54 | elapsed:  1.7min finished\n"
     ]
    },
    {
     "name": "stdout",
     "output_type": "stream",
     "text": [
      "CPU times: user 1min 41s, sys: 238 ms, total: 1min 41s\n",
      "Wall time: 1min 57s\n"
     ]
    }
   ],
   "source": [
    "%%time\n",
    "parameters = {\"max_depth\": [3,5, None],\n",
    "              \"n_estimators\":[15,16,20],\n",
    "              \"max_features\": [6,7,8],\n",
    "              'n_jobs':[-1]}\n",
    "\n",
    "\n",
    "\n",
    "skf = StratifiedKFold(n_splits=2, shuffle=True, random_state=r_state)\n",
    "\n",
    "rfc = RandomForestClassifier()\n",
    "\n",
    "gcv = GridSearchCV(rfc, parameters, n_jobs=-1, cv=skf, verbose=1,scoring='recall')\n",
    "\n",
    "gcv.fit(X_train_adasyn, y_train_adasyn)"
   ]
  },
  {
   "cell_type": "code",
   "execution_count": 63,
   "metadata": {},
   "outputs": [
    {
     "data": {
      "text/plain": [
       "({'max_depth': None, 'max_features': 8, 'n_estimators': 20, 'n_jobs': -1},\n",
       " 0.7195124095869276)"
      ]
     },
     "execution_count": 63,
     "metadata": {},
     "output_type": "execute_result"
    }
   ],
   "source": [
    "best_rfc = gcv.best_estimator_\n",
    "gcv.best_params_ , gcv.best_score_"
   ]
  },
  {
   "cell_type": "code",
   "execution_count": 64,
   "metadata": {},
   "outputs": [
    {
     "name": "stdout",
     "output_type": "stream",
     "text": [
      "\n",
      "Метрики на тестовой части :\n",
      "\n",
      "Accuracy score: 0.9999648279500557\n",
      "ROC AUC score: 0.9999997521031568\n",
      "Recall score: 0.9577464788732394\n",
      "Precicion score: 1.0\n",
      "\n",
      "Метрики на небольшой сбалансированой части,составленной из элементов оригинального датасета:\n",
      "\n",
      "Accuracy score: 0.8040816326530612\n",
      "ROC AUC score: 0.9299958350687214\n",
      "Recall score: 0.6081632653061224\n",
      "Precicion score: 1.0\n"
     ]
    }
   ],
   "source": [
    "estimate_model(best_rfc , X_original_b,y_original_b, X_test, y_test)"
   ]
  },
  {
   "cell_type": "code",
   "execution_count": 65,
   "metadata": {},
   "outputs": [
    {
     "data": {
      "image/png": "[encoded data removed]",
      "text/plain": [
       "<Figure size 432x288 with 2 Axes>"
      ]
     },
     "metadata": {},
     "output_type": "display_data"
    },
    {
     "data": {
      "text/plain": [
       "<Figure size 432x288 with 0 Axes>"
      ]
     },
     "metadata": {},
     "output_type": "display_data"
    }
   ],
   "source": [
    "plot_confusion_matrix(confusion_matrix(y_test,best_rfc.predict(X_test)));"
   ]
  },
  {
   "cell_type": "markdown",
   "metadata": {},
   "source": [
    "# Метод ближайших соседей"
   ]
  },
  {
   "cell_type": "code",
   "execution_count": 66,
   "metadata": {},
   "outputs": [
    {
     "name": "stdout",
     "output_type": "stream",
     "text": [
      "Fitting 2 folds for each of 1 candidates, totalling 2 fits\n"
     ]
    },
    {
     "name": "stderr",
     "output_type": "stream",
     "text": [
      "[Parallel(n_jobs=-1)]: Done   2 out of   2 | elapsed:  2.7min remaining:    0.0s\n",
      "[Parallel(n_jobs=-1)]: Done   2 out of   2 | elapsed:  2.7min finished\n"
     ]
    },
    {
     "name": "stdout",
     "output_type": "stream",
     "text": [
      "CPU times: user 1.25 s, sys: 251 ms, total: 1.5 s\n",
      "Wall time: 2min 41s\n"
     ]
    }
   ],
   "source": [
    "%%time\n",
    "parameters = {'n_neighbors': range(30,40,10),'n_jobs':[-1]}\n",
    "\n",
    "skf = StratifiedKFold(n_splits=2, shuffle=True, random_state=r_state)\n",
    "\n",
    "knn = KNeighborsClassifier()\n",
    "\n",
    "gcv = GridSearchCV(knn, parameters, n_jobs=-1, cv=skf, verbose=1,scoring='precision')\n",
    "\n",
    "gcv.fit(X_train_adasyn, y_train_adasyn)"
   ]
  },
  {
   "cell_type": "code",
   "execution_count": 67,
   "metadata": {},
   "outputs": [
    {
     "data": {
      "text/plain": [
       "({'n_jobs': -1, 'n_neighbors': 30}, 0.8538155710761155)"
      ]
     },
     "execution_count": 67,
     "metadata": {},
     "output_type": "execute_result"
    }
   ],
   "source": [
    "best_knn = gcv.best_estimator_\n",
    "gcv.best_params_ , gcv.best_score_"
   ]
  },
  {
   "cell_type": "code",
   "execution_count": 68,
   "metadata": {},
   "outputs": [
    {
     "name": "stdout",
     "output_type": "stream",
     "text": [
      "\n",
      "Метрики на тестовой части :\n",
      "\n",
      "Accuracy score: 0.9994137991675948\n",
      "ROC AUC score: 0.9995769227209687\n",
      "Recall score: 0.352112676056338\n",
      "Precicion score: 0.8620689655172413\n",
      "\n",
      "Метрики на небольшой сбалансированой части,составленной из элементов оригинального датасета:\n",
      "\n",
      "Accuracy score: 0.6775510204081633\n",
      "ROC AUC score: 0.8755102040816327\n",
      "Recall score: 0.3551020408163265\n",
      "Precicion score: 1.0\n"
     ]
    }
   ],
   "source": [
    "estimate_model(best_knn, X_original_b,y_original_b,  X_test, y_test)"
   ]
  },
  {
   "cell_type": "code",
   "execution_count": 69,
   "metadata": {},
   "outputs": [
    {
     "data": {
      "image/png": "[encoded data removed]",
      "text/plain": [
       "<Figure size 432x288 with 2 Axes>"
      ]
     },
     "metadata": {},
     "output_type": "display_data"
    },
    {
     "data": {
      "text/plain": [
       "<Figure size 432x288 with 0 Axes>"
      ]
     },
     "metadata": {},
     "output_type": "display_data"
    }
   ],
   "source": [
    "plot_confusion_matrix(confusion_matrix(y_test,best_knn.predict(X_test)));"
   ]
  },
  {
   "cell_type": "markdown",
   "metadata": {},
   "source": [
    "# Логистическая регрессия"
   ]
  },
  {
   "cell_type": "code",
   "execution_count": 70,
   "metadata": {
    "scrolled": true
   },
   "outputs": [
    {
     "name": "stdout",
     "output_type": "stream",
     "text": [
      "Fitting 2 folds for each of 8 candidates, totalling 16 fits\n"
     ]
    },
    {
     "name": "stderr",
     "output_type": "stream",
     "text": [
      "[Parallel(n_jobs=-1)]: Done  16 out of  16 | elapsed:  1.8min finished\n"
     ]
    },
    {
     "name": "stdout",
     "output_type": "stream",
     "text": [
      "CPU times: user 13.2 s, sys: 325 ms, total: 13.5 s\n",
      "Wall time: 1min 59s\n"
     ]
    }
   ],
   "source": [
    "%%time\n",
    "logit = LogisticRegression(n_jobs=-1)       \n",
    "\n",
    "parameters = {'C': [5,10,20,30],'penalty':['l1', 'l2']}\n",
    "\n",
    "skf = StratifiedKFold(n_splits=2, shuffle=True, random_state=r_state)\n",
    "\n",
    "gcv = GridSearchCV(logit, parameters, n_jobs=-1, cv=skf, verbose=1,scoring='recall')\n",
    "\n",
    "gcv.fit(X_train_adasyn, y_train_adasyn)"
   ]
  },
  {
   "cell_type": "code",
   "execution_count": 71,
   "metadata": {},
   "outputs": [
    {
     "data": {
      "text/plain": [
       "({'C': 5, 'penalty': 'l1'}, 0.5934961637219911)"
      ]
     },
     "execution_count": 71,
     "metadata": {},
     "output_type": "execute_result"
    }
   ],
   "source": [
    "best_logit= gcv.best_estimator_\n",
    "gcv.best_params_ , gcv.best_score_"
   ]
  },
  {
   "cell_type": "code",
   "execution_count": 72,
   "metadata": {},
   "outputs": [
    {
     "name": "stdout",
     "output_type": "stream",
     "text": [
      "\n",
      "Метрики на тестовой части :\n",
      "\n",
      "Accuracy score: 0.9996717275338531\n",
      "ROC AUC score: 0.9758047723117076\n",
      "Recall score: 0.647887323943662\n",
      "Precicion score: 0.9387755102040817\n",
      "\n",
      "Метрики на небольшой сбалансированой части,составленной из элементов оригинального датасета:\n",
      "\n",
      "Accuracy score: 0.736734693877551\n",
      "ROC AUC score: 0.8627571845064557\n",
      "Recall score: 0.47346938775510206\n",
      "Precicion score: 1.0\n"
     ]
    }
   ],
   "source": [
    "estimate_model(best_logit, X_original_b,y_original_b,  X_test, y_test)"
   ]
  },
  {
   "cell_type": "code",
   "execution_count": 73,
   "metadata": {},
   "outputs": [
    {
     "data": {
      "image/png": "[encoded data removed]",
      "text/plain": [
       "<Figure size 432x288 with 2 Axes>"
      ]
     },
     "metadata": {},
     "output_type": "display_data"
    },
    {
     "data": {
      "text/plain": [
       "<Figure size 432x288 with 0 Axes>"
      ]
     },
     "metadata": {},
     "output_type": "display_data"
    }
   ],
   "source": [
    "plot_confusion_matrix(confusion_matrix(y_test,best_logit.predict(X_test)));"
   ]
  },
  {
   "cell_type": "markdown",
   "metadata": {},
   "source": [
    "# Нейросеть\n",
    "\n"
   ]
  },
  {
   "cell_type": "markdown",
   "metadata": {},
   "source": [
    "Поскольку перед нами не стоит задача распознавания изображений, у нас не так много данных и они не имею слишком большой размерности, то воспользуемся встроенной в SKlearn нейросетью - MultiLayerClassifier"
   ]
  },
  {
   "cell_type": "code",
   "execution_count": 74,
   "metadata": {},
   "outputs": [
    {
     "name": "stdout",
     "output_type": "stream",
     "text": [
      "Fitting 2 folds for each of 2 candidates, totalling 4 fits\n"
     ]
    },
    {
     "name": "stderr",
     "output_type": "stream",
     "text": [
      "[Parallel(n_jobs=-1)]: Done   4 out of   4 | elapsed:  1.9min remaining:    0.0s\n",
      "[Parallel(n_jobs=-1)]: Done   4 out of   4 | elapsed:  1.9min finished\n"
     ]
    },
    {
     "name": "stdout",
     "output_type": "stream",
     "text": [
      "CPU times: user 1min 27s, sys: 2min 31s, total: 3min 59s\n",
      "Wall time: 2min 26s\n"
     ]
    }
   ],
   "source": [
    "%%time\n",
    "\n",
    "scaler = RobustScaler()\n",
    "scaler.fit_transform(X_train_adasyn['Amount'].values.reshape(-1, 1))\n",
    "# rob_scaler.fit_transform(X_train_adasyn['Time'].values.reshape(-1, 1))\n",
    "\n",
    "\n",
    "mlp = MLPClassifier(random_state=r_state)\n",
    "parameters = {'activation':['logistic'], 'alpha':[1e-5],'hidden_layer_sizes':[(512,), (128, 256,)],'learning_rate':['adaptive']}\n",
    "\n",
    "skf = StratifiedKFold(n_splits=2, shuffle=True, random_state=r_state)\n",
    "\n",
    "gcv = GridSearchCV(mlp, parameters, n_jobs=-1, cv=skf, verbose=1,scoring='recall')\n",
    "\n",
    "gcv.fit(X_train_adasyn, y_train_adasyn)"
   ]
  },
  {
   "cell_type": "code",
   "execution_count": 75,
   "metadata": {},
   "outputs": [
    {
     "data": {
      "text/plain": [
       "({'activation': 'logistic',\n",
       "  'alpha': 1e-05,\n",
       "  'hidden_layer_sizes': (512,),\n",
       "  'learning_rate': 'adaptive'},\n",
       " 0.7317074314544915)"
      ]
     },
     "execution_count": 75,
     "metadata": {},
     "output_type": "execute_result"
    }
   ],
   "source": [
    "best_mlp = gcv.best_estimator_\n",
    "gcv.best_params_ , gcv.best_score_"
   ]
  },
  {
   "cell_type": "code",
   "execution_count": 76,
   "metadata": {},
   "outputs": [
    {
     "name": "stdout",
     "output_type": "stream",
     "text": [
      "\n",
      "Метрики на тестовой части :\n",
      "\n",
      "Accuracy score: 0.9991675948179847\n",
      "ROC AUC score: 0.9887600266009839\n",
      "Recall score: 0.0\n",
      "Precicion score: 0.0\n",
      "\n",
      "Метрики на небольшой сбалансированой части,составленной из элементов оригинального датасета:\n",
      "\n",
      "Accuracy score: 0.5\n",
      "ROC AUC score: 0.9685797584339859\n",
      "Recall score: 0.0\n",
      "Precicion score: 0.0\n"
     ]
    }
   ],
   "source": [
    "estimate_model(best_mlp, scaler.transform(X_original_b),y_original_b, scaler.transform(X_test),y_test)"
   ]
  },
  {
   "cell_type": "code",
   "execution_count": 77,
   "metadata": {},
   "outputs": [
    {
     "data": {
      "image/png": "[encoded data removed]",
      "text/plain": [
       "<Figure size 432x288 with 2 Axes>"
      ]
     },
     "metadata": {},
     "output_type": "display_data"
    },
    {
     "data": {
      "text/plain": [
       "<Figure size 432x288 with 0 Axes>"
      ]
     },
     "metadata": {},
     "output_type": "display_data"
    }
   ],
   "source": [
    "plot_confusion_matrix(confusion_matrix(y_test,best_mlp.predict(X_test)));"
   ]
  },
  {
   "cell_type": "code",
   "execution_count": null,
   "metadata": {},
   "outputs": [],
   "source": []
  }
 ],
 "metadata": {
  "kernelspec": {
   "display_name": "Python 3",
   "language": "python",
   "name": "python3"
  },
  "language_info": {
   "codemirror_mode": {
    "name": "ipython",
    "version": 3
   },
   "file_extension": ".py",
   "mimetype": "text/x-python",
   "name": "python",
   "nbconvert_exporter": "python",
   "pygments_lexer": "ipython3",
   "version": "3.6.5"
  }
 },
 "nbformat": 4,
 "nbformat_minor": 2
}
